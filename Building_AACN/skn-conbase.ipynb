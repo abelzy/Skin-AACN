{
 "cells": [
  {
   "cell_type": "markdown",
   "metadata": {
    "colab_type": "text",
    "id": "mheA8YoF9K3a"
   },
   "source": [
    "Classification of skin lesions using convolutional neural networks: An educational guide\n",
    "=====================\n",
    "The aim of this guide is to present a step-by-step approach to people who are interested in working or better understanding the problem of classifying skin lesions. Regardless of the level of knowledge about machine learning, programming and medical concepts.\n",
    "## Using this guide, you will learn:\n",
    "- How to install the Anaconda Navigator environment, and the other tools necessary to perform the classification activities.\n",
    "- How to manipulate, separate into folders and organize by classes the images of the dataset HAM10000..\n",
    "- How to load data from the dataset, view and find out more about each class, and its metadata.\n",
    "- How to use different convolutional neural network architectures in two different models available in the literature.\n",
    "- How to train a model and assign appropriate optimization functions.\n",
    "- How to test the trained model, checking not only metrics like accuracy, but also visualizations like confusion matrix and \"GradCam\".\n",
    "- How to verify the results obtained from the use of the educational guide."
   ]
  },
  {
   "cell_type": "markdown",
   "metadata": {
    "colab_type": "text",
    "id": "mheA8YoF9K3a"
   },
   "source": [
    "Step 1: Installation Procedures\n",
    "=====================\n",
    "We will begin with the installation of the environment and the necessary tools for the execution of the activities.\n",
    "- We use the Anaconda Navigator as an environment.\n",
    "- As IDE we will use Spyder, but if desired can be used any other.\n",
    "Anaconda download link: https://www.anaconda.com/products/individual#Downloads\n",
    "After installing, an environment must be created through Anaconda Navigator and, in this environment, install the \"CMD Prompt\" that will be available on the main screen of the environment.\n",
    "# Tools\n",
    "Now, we will install the necessary tools to perform the activities. For each of the tools will be presented a brief summary of their applications and functionalities."
   ]
  },
  {
   "cell_type": "markdown",
   "metadata": {
    "colab_type": "text",
    "id": "mheA8YoF9K3a"
   },
   "source": [
    "## <font color='blue'>Pytorch and related</font>\n",
    "PyTorch is an open source machine learning library based on the Torch library. It is a library widely used in applications that use computer vision and natural language processing. The library emerged and was presented after the development of some projects in Facebook's AI research laboratory.\n",
    "###<font color='blue'>Torchvision</font>\n",
    "The Torchvision library is part of the Pytorch project. Torchvision is a library created to work with computer vision.\n",
    "For more information, please visit: https://pytorch.org/vision/master/\n",
    "###<font color='blue'>CUDA Toolkit</font>\n",
    "The CUDA Toolkit provides a development environment for creating GPU-accelerated applications (Graphics processing unit) or graphics processing unit. This is an alternative for users who have GPU-enabled graphics cards.\n",
    "For more information, please visit: https://developer.nvidia.com/cuda-toolkit\n",
    "To install these packages, the following command must be used in the terminal of the environment created in Anaconda:\n",
    "###<font color='green'>conda install pytorch torchvision cudatoolkit=10.2 -c pytorch</font>"
   ]
  },
  {
   "cell_type": "markdown",
   "metadata": {
    "colab_type": "text",
    "id": "mheA8YoF9K3a"
   },
   "source": [
    "## <font color='blue'>Pandas</font>\n",
    "Pandas is a Python package that provides important data analysis tools and easy-to-use high performance data structures.\n",
    "For more information, please visit: https://pandas.pydata.org/\n",
    "To install Pandas, the following command must be used in the terminal of the environment created in Anaconda:\n",
    "###<font color='green'>conda install pandas</font>"
   ]
  },
  {
   "cell_type": "markdown",
   "metadata": {
    "colab_type": "text",
    "id": "mheA8YoF9K3a"
   },
   "source": [
    "## <font color='blue'> MatPlotLib </font>\n",
    "Matplotlib is a library that allows animated or interactive visualization of statistical data in Python. In this work, the library will be used for creating and presenting graphs that can facilitate the understanding of some results obtained.\n",
    "For more information, please visit: https://matplotlib.org/stable/index.html\n",
    "To install Matplotlib, the following command must be used in the terminal of the environment created in Anaconda:\n",
    "###<font color='green'>conda install matplotlib</font>\n",
    "##<font color='blue'>Scikit Learn</font>\n",
    "Scikit Learn or sklearn is a library for the Python programming language used for machine learning applications. It has several tools for implementing various classification algorithms, including those that were used in our work.\n",
    "This is an excellent option for starting machine learning jobs and studies.\n",
    "For more information, please visit: http://scikit-learn.org/\n",
    "To install Sklearn, the following command must be used in the terminal of the environment created in Anaconda:\n",
    "###<font color='green'>conda install scikit-learn</font>\n",
    "## <font color='blue'>Seaborn</font>\n",
    "Seaborn is a Python data visualization library based on Matplotlib. It provides a high-level interface for creating charts that would be complex manipulation using the Matplotlib library in creating attractive and informative statistical information.\n",
    "For more information, please visit: https://seaborn.pydata.org/\n",
    "To install Seaborn, the following command must be used in the terminal of the environment created in Anaconda:\n",
    "###<font color='green'>conda install seaborn</font>\n",
    "## <font color='blue'>ImageIO</font>\n",
    "ImageIO is a Python library that provides an easy interface to read and write a wide variety of image data, including animated images and scientific formats.\n",
    "For more information, please visit: https://imageio.github.io I'm sorry. I'm sorry.\n",
    "To install ImageIO, the following command must be used in the terminal of the environment created in Anaconda:\n",
    "###<font color='green'>conda install imageio</font>"
   ]
  },
  {
   "cell_type": "code",
   "execution_count": 2,
   "metadata": {},
   "outputs": [],
   "source": [
    "# shutil.rmtree('./base_dir')"
   ]
  },
  {
   "cell_type": "markdown",
   "metadata": {},
   "source": [
    "Para construção do primeiro bloco de código onde é realizada a importação de todas as bibliotecas que serão utilizadas, é importante que todas essas ferramentas estejam instaladas e funcionando corretamente. Observe o código de importação das bibliotecas abaixo:"
   ]
  },
  {
   "cell_type": "code",
   "execution_count": 3,
   "metadata": {
    "colab": {},
    "colab_type": "code",
    "id": "3WWH-Rfj9K3b"
   },
   "outputs": [
    {
     "data": {
      "text/plain": [
       "device(type='cuda')"
      ]
     },
     "execution_count": 3,
     "metadata": {},
     "output_type": "execute_result"
    }
   ],
   "source": [
    "import torch\n",
    "from torch import nn\n",
    "import torch.nn.functional as F\n",
    "import torchvision\n",
    "import torchvision.transforms as transforms\n",
    "import numpy as np\n",
    "import os\n",
    "import warnings\n",
    "import numpy as np\n",
    "import pandas as pd\n",
    "from sklearn.model_selection import train_test_split\n",
    "from sklearn.metrics import confusion_matrix, precision_recall_fscore_support\n",
    "import scipy.ndimage\n",
    "from scipy import misc\n",
    "from glob import glob\n",
    "from scipy import stats\n",
    "from sklearn.preprocessing import LabelEncoder, StandardScaler\n",
    "import imageio\n",
    "import seaborn as sns\n",
    "from PIL import Image\n",
    "from glob import glob\n",
    "import matplotlib.pyplot as plt\n",
    "import matplotlib\n",
    "%matplotlib inline\n",
    "\n",
    "device = torch.device('cuda' if torch.cuda.is_available() else 'cpu')\n",
    "\n",
    "device"
   ]
  },
  {
   "cell_type": "code",
   "execution_count": null,
   "metadata": {},
   "outputs": [],
   "source": []
  },
  {
   "cell_type": "code",
   "execution_count": 4,
   "metadata": {},
   "outputs": [
    {
     "data": {
      "text/plain": [
       "['HAM10000_images_part_2',\n",
       " 'HAM10000_images_part_1',\n",
       " 'hubconf.py',\n",
       " 'hmnist_28_28_RGB.csv',\n",
       " 'hmnist_28_28_L.csv',\n",
       " 'hmnist_8_8_RGB.csv',\n",
       " 'hmnist_8_8_L.csv',\n",
       " 'HAM10000_metadata.csv']"
      ]
     },
     "execution_count": 4,
     "metadata": {},
     "output_type": "execute_result"
    }
   ],
   "source": [
    "os.listdir('../data')\n"
   ]
  },
  {
   "cell_type": "code",
   "execution_count": 5,
   "metadata": {},
   "outputs": [],
   "source": [
    "# # Create a new directory\n",
    "# base_dir = 'base_dir'\n",
    "\n",
    "\n",
    "# #[CREATE FOLDERS INSIDE THE BASE DIRECTORY]\n",
    "\n",
    "# # now we create 7 folders inside 'base_dir':\n",
    "\n",
    "# # train_dir\n",
    "#     # nv\n",
    "#     # mel\n",
    "#     # bkl\n",
    "#     # bcc\n",
    "#     # akiec\n",
    "#     # vasc\n",
    "#     # df\n",
    " \n",
    "# # val_dir\n",
    "#     # nv\n",
    "#     # mel\n",
    "#     # bkl\n",
    "#     # bcc\n",
    "#     # akiec\n",
    "#     # vasc\n",
    "#     # df\n",
    "\n",
    "# # create a path to 'base_dir' to which we will join the names of the new folders\n",
    "# # train_dir\n",
    "# train_dir = os.path.join(base_dir, 'train_dir')\n",
    "\n",
    "\n",
    "# # val_dir\n",
    "# val_dir = os.path.join(base_dir, 'val_dir')\n",
    "\n",
    "\n"
   ]
  },
  {
   "cell_type": "code",
   "execution_count": 6,
   "metadata": {},
   "outputs": [],
   "source": [
    "# os.mkdir(base_dir)\n",
    "# os.mkdir(val_dir)\n",
    "# os.mkdir(train_dir)"
   ]
  },
  {
   "cell_type": "code",
   "execution_count": 7,
   "metadata": {},
   "outputs": [],
   "source": [
    "\n",
    "# # [CREATE FOLDERS INSIDE THE TRAIN, VALIDATION AND TEST FOLDERS]\n",
    "# # Inside each folder we create seperate folders for each class\n",
    "\n",
    "# # create new folders inside train_dir\n",
    "# nv = os.path.join(train_dir, 'nv')\n",
    "# os.mkdir(nv)\n",
    "# mel = os.path.join(train_dir, 'mel')\n",
    "# os.mkdir(mel)\n",
    "# bkl = os.path.join(train_dir, 'bkl')\n",
    "# os.mkdir(bkl)\n",
    "# bcc = os.path.join(train_dir, 'bcc')\n",
    "# os.mkdir(bcc)\n",
    "# akiec = os.path.join(train_dir, 'akiec')\n",
    "# os.mkdir(akiec)\n",
    "# vasc = os.path.join(train_dir, 'vasc')\n",
    "# os.mkdir(vasc)\n",
    "# df = os.path.join(train_dir, 'df')\n",
    "# os.mkdir(df)\n",
    "\n",
    "\n",
    "\n",
    "# # create new folders inside val_dir\n",
    "# nv = os.path.join(val_dir, 'nv')\n",
    "# os.mkdir(nv)\n",
    "# mel = os.path.join(val_dir, 'mel')\n",
    "# os.mkdir(mel)\n",
    "# bkl = os.path.join(val_dir, 'bkl')\n",
    "# os.mkdir(bkl)\n",
    "# bcc = os.path.join(val_dir, 'bcc')\n",
    "# os.mkdir(bcc)\n",
    "# akiec = os.path.join(val_dir, 'akiec')\n",
    "# os.mkdir(akiec)\n",
    "# vasc = os.path.join(val_dir, 'vasc')\n",
    "# os.mkdir(vasc)\n",
    "# df = os.path.join(val_dir, 'df')\n",
    "# os.mkdir(df)"
   ]
  },
  {
   "cell_type": "code",
   "execution_count": 8,
   "metadata": {},
   "outputs": [
    {
     "data": {
      "text/html": [
       "<div>\n",
       "<style scoped>\n",
       "    .dataframe tbody tr th:only-of-type {\n",
       "        vertical-align: middle;\n",
       "    }\n",
       "\n",
       "    .dataframe tbody tr th {\n",
       "        vertical-align: top;\n",
       "    }\n",
       "\n",
       "    .dataframe thead th {\n",
       "        text-align: right;\n",
       "    }\n",
       "</style>\n",
       "<table border=\"1\" class=\"dataframe\">\n",
       "  <thead>\n",
       "    <tr style=\"text-align: right;\">\n",
       "      <th></th>\n",
       "      <th>lesion_id</th>\n",
       "      <th>image_id</th>\n",
       "      <th>dx</th>\n",
       "      <th>dx_type</th>\n",
       "      <th>age</th>\n",
       "      <th>sex</th>\n",
       "      <th>localization</th>\n",
       "      <th>path</th>\n",
       "      <th>cell_type</th>\n",
       "      <th>cell_type_idx</th>\n",
       "    </tr>\n",
       "  </thead>\n",
       "  <tbody>\n",
       "    <tr>\n",
       "      <th>0</th>\n",
       "      <td>HAM_0000118</td>\n",
       "      <td>ISIC_0027419</td>\n",
       "      <td>bkl</td>\n",
       "      <td>histo</td>\n",
       "      <td>80.0</td>\n",
       "      <td>male</td>\n",
       "      <td>scalp</td>\n",
       "      <td>../data/HAM10000_images_part_1/ISIC_0027419.jpg</td>\n",
       "      <td>Benign keratosis-like lesions</td>\n",
       "      <td>2</td>\n",
       "    </tr>\n",
       "    <tr>\n",
       "      <th>1</th>\n",
       "      <td>HAM_0000118</td>\n",
       "      <td>ISIC_0025030</td>\n",
       "      <td>bkl</td>\n",
       "      <td>histo</td>\n",
       "      <td>80.0</td>\n",
       "      <td>male</td>\n",
       "      <td>scalp</td>\n",
       "      <td>../data/HAM10000_images_part_1/ISIC_0025030.jpg</td>\n",
       "      <td>Benign keratosis-like lesions</td>\n",
       "      <td>2</td>\n",
       "    </tr>\n",
       "    <tr>\n",
       "      <th>2</th>\n",
       "      <td>HAM_0002730</td>\n",
       "      <td>ISIC_0026769</td>\n",
       "      <td>bkl</td>\n",
       "      <td>histo</td>\n",
       "      <td>80.0</td>\n",
       "      <td>male</td>\n",
       "      <td>scalp</td>\n",
       "      <td>../data/HAM10000_images_part_1/ISIC_0026769.jpg</td>\n",
       "      <td>Benign keratosis-like lesions</td>\n",
       "      <td>2</td>\n",
       "    </tr>\n",
       "    <tr>\n",
       "      <th>3</th>\n",
       "      <td>HAM_0002730</td>\n",
       "      <td>ISIC_0025661</td>\n",
       "      <td>bkl</td>\n",
       "      <td>histo</td>\n",
       "      <td>80.0</td>\n",
       "      <td>male</td>\n",
       "      <td>scalp</td>\n",
       "      <td>../data/HAM10000_images_part_1/ISIC_0025661.jpg</td>\n",
       "      <td>Benign keratosis-like lesions</td>\n",
       "      <td>2</td>\n",
       "    </tr>\n",
       "    <tr>\n",
       "      <th>4</th>\n",
       "      <td>HAM_0001466</td>\n",
       "      <td>ISIC_0031633</td>\n",
       "      <td>bkl</td>\n",
       "      <td>histo</td>\n",
       "      <td>75.0</td>\n",
       "      <td>male</td>\n",
       "      <td>ear</td>\n",
       "      <td>../data/HAM10000_images_part_2/ISIC_0031633.jpg</td>\n",
       "      <td>Benign keratosis-like lesions</td>\n",
       "      <td>2</td>\n",
       "    </tr>\n",
       "  </tbody>\n",
       "</table>\n",
       "</div>"
      ],
      "text/plain": [
       "     lesion_id      image_id   dx dx_type   age   sex localization  \\\n",
       "0  HAM_0000118  ISIC_0027419  bkl   histo  80.0  male        scalp   \n",
       "1  HAM_0000118  ISIC_0025030  bkl   histo  80.0  male        scalp   \n",
       "2  HAM_0002730  ISIC_0026769  bkl   histo  80.0  male        scalp   \n",
       "3  HAM_0002730  ISIC_0025661  bkl   histo  80.0  male        scalp   \n",
       "4  HAM_0001466  ISIC_0031633  bkl   histo  75.0  male          ear   \n",
       "\n",
       "                                              path  \\\n",
       "0  ../data/HAM10000_images_part_1/ISIC_0027419.jpg   \n",
       "1  ../data/HAM10000_images_part_1/ISIC_0025030.jpg   \n",
       "2  ../data/HAM10000_images_part_1/ISIC_0026769.jpg   \n",
       "3  ../data/HAM10000_images_part_1/ISIC_0025661.jpg   \n",
       "4  ../data/HAM10000_images_part_2/ISIC_0031633.jpg   \n",
       "\n",
       "                        cell_type  cell_type_idx  \n",
       "0  Benign keratosis-like lesions               2  \n",
       "1  Benign keratosis-like lesions               2  \n",
       "2  Benign keratosis-like lesions               2  \n",
       "3  Benign keratosis-like lesions               2  \n",
       "4  Benign keratosis-like lesions               2  "
      ]
     },
     "execution_count": 8,
     "metadata": {},
     "output_type": "execute_result"
    }
   ],
   "source": [
    "df = pd.read_csv('../data/HAM10000_metadata.csv')\n",
    "\n",
    "base_skin_dir = \"../data\"\n",
    "\n",
    "\n",
    "all_image_path = glob(os.path.join(base_skin_dir, '*', '*.jpg'))\n",
    "#extracts the image id to match it with the .csv label file\n",
    "imageid_path_dict = {os.path.splitext(os.path.basename(x))[0] : x for x in all_image_path}\n",
    "\n",
    "lesion_type_dict = {\n",
    "    'nv': 'Melanocytic nevi',\n",
    "    'mel': 'Melanoma',\n",
    "    'bkl': 'Benign keratosis-like lesions ',\n",
    "    'bcc': 'Basal cell carcinoma',\n",
    "    'akiec': 'Actinic keratoses',\n",
    "    'vasc': 'Vascular lesions',\n",
    "    'df': 'Dermatofibroma'\n",
    "}\n",
    "# Creating New Columns for better readability\n",
    "\n",
    "df['path'] = df['image_id'].map(imageid_path_dict.get)\n",
    "df['cell_type'] = df['dx'].map(lesion_type_dict.get) \n",
    "df['cell_type_idx'] = pd.Categorical(df['cell_type']).codes\n",
    "\n",
    "df.head()\n"
   ]
  },
  {
   "cell_type": "code",
   "execution_count": 9,
   "metadata": {},
   "outputs": [],
   "source": [
    "# df['image'] = df['path'].map(lambda x: np.asarray(Image.open(x)))\n",
    "\n",
    "# # Sample images\n",
    "# n_samples = 5\n",
    "# fig, m_axs = plt.subplots(7, n_samples, figsize = (4*n_samples, 3*7))\n",
    "# for n_axs, (type_name, type_rows) in zip(m_axs, \n",
    "#                                          df.sort_values(['cell_type']).groupby('cell_type')):\n",
    "#     n_axs[0].set_title(type_name)\n",
    "#     for c_ax, (_, c_row) in zip(n_axs, type_rows.sample(n_samples, random_state=1234).iterrows()):\n",
    "#         c_ax.imshow(c_row['image'])\n",
    "#         c_ax.axis('off')\n",
    "# fig.savefig('category_samples.png', dpi=500)"
   ]
  },
  {
   "cell_type": "code",
   "execution_count": 10,
   "metadata": {},
   "outputs": [],
   "source": [
    "# label = [ 'akiec', 'bcc','bkl','df','mel', 'nv',  'vasc']\n",
    "# classes = [ 'ceratoses actínicas', 'carcinoma basocelular', 'lesoes de ceratose benignas', \n",
    "#                'dermatofibroma','melanoma', 'nevos melanocíticos', 'lesões vasculares']\n",
    "# metadata = df\n",
    "# num_classes = len(classes)\n",
    "\n",
    "# def estimar_frequencia(label):\n",
    "# # DEFINE AN ARRAY THE SAME SIZE AS THE LABEL, ONLY WITH ZERES.\n",
    "#     class_freq = np.zeros_like(label, dtype=np.float64)\n",
    "# # SET THE COUNTER, WHICH IS AN ARRAY THE SAME SIZE AS THE LABEL, BUT EMPTY   \n",
    "#     count = np.zeros_like(label)\n",
    "#     for i,l in enumerate(label):\n",
    "#         #SET THE FREQUENCY (HOW MANY IMAGES) OF EACH CLASS\n",
    "#         count[i] = metadata[metadata['dx']==str(l)]['dx'].value_counts()[0]\n",
    "#     count = count.astype(np.float64)\n",
    "#     #MAKE A TOTAL MEDIA\n",
    "#     freq_media = np.median(count)\n",
    "#     for i, label in enumerate(label):    \n",
    "#         #DIVIDE THE TOTAL MEDIA BY EACH CLASS, COMING THERE AT THE BALANCED FREQUENCY.\n",
    "#         class_freq[i] = freq_media / count[i]\n",
    "#     return class_freq\n",
    "    \n",
    "# class_freq = estimar_frequencia(label)\n",
    "   \n",
    "# for i in range(len(label)):\n",
    "#     print(label[i],\":\", class_freq[i])"
   ]
  },
  {
   "cell_type": "code",
   "execution_count": 11,
   "metadata": {},
   "outputs": [
    {
     "data": {
      "text/plain": [
       "<AxesSubplot:>"
      ]
     },
     "execution_count": 11,
     "metadata": {},
     "output_type": "execute_result"
    },
    {
     "data": {
      "image/png": "[encoded data removed]",
      "text/plain": [
       "<Figure size 720x360 with 1 Axes>"
      ]
     },
     "metadata": {
      "needs_background": "light"
     },
     "output_type": "display_data"
    }
   ],
   "source": [
    "# Distribution of 7 classes\n",
    "fig, ax1 = plt.subplots(1, 1, figsize= (10, 5))\n",
    "df['cell_type'].value_counts().plot(kind='bar', ax=ax1)"
   ]
  },
  {
   "cell_type": "code",
   "execution_count": 12,
   "metadata": {},
   "outputs": [
    {
     "data": {
      "text/plain": [
       "<AxesSubplot:>"
      ]
     },
     "execution_count": 12,
     "metadata": {},
     "output_type": "execute_result"
    },
    {
     "data": {
      "image/png": "[encoded data removed]",
      "text/plain": [
       "<Figure size 432x288 with 1 Axes>"
      ]
     },
     "metadata": {
      "needs_background": "light"
     },
     "output_type": "display_data"
    }
   ],
   "source": [
    "# Plotting of Technical Validation field (ground truth) which is dx_type to see the distribution of its 4 categories\n",
    "# Histopathology,Confocal,Follow-up,Consensus\n",
    "\n",
    "df['dx_type'].value_counts().plot(kind='bar')"
   ]
  },
  {
   "cell_type": "code",
   "execution_count": 13,
   "metadata": {},
   "outputs": [
    {
     "data": {
      "text/plain": [
       "<AxesSubplot:>"
      ]
     },
     "execution_count": 13,
     "metadata": {},
     "output_type": "execute_result"
    },
    {
     "data": {
      "image/png": "[encoded data removed]",
      "text/plain": [
       "<Figure size 432x288 with 1 Axes>"
      ]
     },
     "metadata": {
      "needs_background": "light"
     },
     "output_type": "display_data"
    }
   ],
   "source": [
    "\n",
    "# Plotting the distribution of localization field\n",
    "\n",
    "df['localization'].value_counts().plot(kind='bar')"
   ]
  },
  {
   "cell_type": "code",
   "execution_count": 14,
   "metadata": {},
   "outputs": [
    {
     "data": {
      "text/plain": [
       "<AxesSubplot:>"
      ]
     },
     "execution_count": 14,
     "metadata": {},
     "output_type": "execute_result"
    },
    {
     "data": {
      "image/png": "[encoded data removed]",
      "text/plain": [
       "<Figure size 432x288 with 1 Axes>"
      ]
     },
     "metadata": {
      "needs_background": "light"
     },
     "output_type": "display_data"
    }
   ],
   "source": [
    "# Check the distribution of Age\n",
    "\n",
    "df['age'].hist(bins=25)"
   ]
  },
  {
   "cell_type": "code",
   "execution_count": 15,
   "metadata": {},
   "outputs": [
    {
     "data": {
      "text/plain": [
       "<AxesSubplot:>"
      ]
     },
     "execution_count": 15,
     "metadata": {},
     "output_type": "execute_result"
    },
    {
     "data": {
      "image/png": "[encoded data removed]",
      "text/plain": [
       "<Figure size 432x288 with 1 Axes>"
      ]
     },
     "metadata": {
      "needs_background": "light"
     },
     "output_type": "display_data"
    }
   ],
   "source": [
    "# Distribution of males and females\n",
    "\n",
    "df['sex'].value_counts().plot(kind='bar')"
   ]
  },
  {
   "cell_type": "code",
   "execution_count": 16,
   "metadata": {},
   "outputs": [
    {
     "name": "stderr",
     "output_type": "stream",
     "text": [
      "/root/miniconda3/lib/python3.8/site-packages/seaborn/_decorators.py:36: FutureWarning: Pass the following variables as keyword args: x, y. From version 0.12, the only valid positional argument will be `data`, and passing other arguments without an explicit keyword will result in an error or misinterpretation.\n",
      "  warnings.warn(\n"
     ]
    },
    {
     "data": {
      "text/plain": [
       "<AxesSubplot:xlabel='age', ylabel='cell_type_idx'>"
      ]
     },
     "execution_count": 16,
     "metadata": {},
     "output_type": "execute_result"
    },
    {
     "data": {
      "image/png": "[encoded data removed]",
      "text/plain": [
       "<Figure size 432x288 with 1 Axes>"
      ]
     },
     "metadata": {
      "needs_background": "light"
     },
     "output_type": "display_data"
    }
   ],
   "source": [
    "# Agewise distribution of skin cancer types\n",
    "\n",
    "sns.scatterplot('age','cell_type_idx',data=df)"
   ]
  },
  {
   "cell_type": "code",
   "execution_count": 17,
   "metadata": {},
   "outputs": [
    {
     "data": {
      "text/html": [
       "<div>\n",
       "<style scoped>\n",
       "    .dataframe tbody tr th:only-of-type {\n",
       "        vertical-align: middle;\n",
       "    }\n",
       "\n",
       "    .dataframe tbody tr th {\n",
       "        vertical-align: top;\n",
       "    }\n",
       "\n",
       "    .dataframe thead th {\n",
       "        text-align: right;\n",
       "    }\n",
       "</style>\n",
       "<table border=\"1\" class=\"dataframe\">\n",
       "  <thead>\n",
       "    <tr style=\"text-align: right;\">\n",
       "      <th></th>\n",
       "      <th>lesion_id</th>\n",
       "      <th>image_id</th>\n",
       "      <th>dx</th>\n",
       "      <th>dx_type</th>\n",
       "      <th>age</th>\n",
       "      <th>sex</th>\n",
       "      <th>localization</th>\n",
       "      <th>path</th>\n",
       "      <th>cell_type</th>\n",
       "      <th>cell_type_idx</th>\n",
       "    </tr>\n",
       "  </thead>\n",
       "  <tbody>\n",
       "    <tr>\n",
       "      <th>0</th>\n",
       "      <td>HAM_0000001</td>\n",
       "      <td>1</td>\n",
       "      <td>1</td>\n",
       "      <td>1</td>\n",
       "      <td>1</td>\n",
       "      <td>1</td>\n",
       "      <td>1</td>\n",
       "      <td>1</td>\n",
       "      <td>1</td>\n",
       "      <td>1</td>\n",
       "    </tr>\n",
       "    <tr>\n",
       "      <th>1</th>\n",
       "      <td>HAM_0000003</td>\n",
       "      <td>1</td>\n",
       "      <td>1</td>\n",
       "      <td>1</td>\n",
       "      <td>1</td>\n",
       "      <td>1</td>\n",
       "      <td>1</td>\n",
       "      <td>1</td>\n",
       "      <td>1</td>\n",
       "      <td>1</td>\n",
       "    </tr>\n",
       "    <tr>\n",
       "      <th>2</th>\n",
       "      <td>HAM_0000004</td>\n",
       "      <td>1</td>\n",
       "      <td>1</td>\n",
       "      <td>1</td>\n",
       "      <td>1</td>\n",
       "      <td>1</td>\n",
       "      <td>1</td>\n",
       "      <td>1</td>\n",
       "      <td>1</td>\n",
       "      <td>1</td>\n",
       "    </tr>\n",
       "    <tr>\n",
       "      <th>3</th>\n",
       "      <td>HAM_0000007</td>\n",
       "      <td>1</td>\n",
       "      <td>1</td>\n",
       "      <td>1</td>\n",
       "      <td>1</td>\n",
       "      <td>1</td>\n",
       "      <td>1</td>\n",
       "      <td>1</td>\n",
       "      <td>1</td>\n",
       "      <td>1</td>\n",
       "    </tr>\n",
       "    <tr>\n",
       "      <th>4</th>\n",
       "      <td>HAM_0000008</td>\n",
       "      <td>1</td>\n",
       "      <td>1</td>\n",
       "      <td>1</td>\n",
       "      <td>1</td>\n",
       "      <td>1</td>\n",
       "      <td>1</td>\n",
       "      <td>1</td>\n",
       "      <td>1</td>\n",
       "      <td>1</td>\n",
       "    </tr>\n",
       "  </tbody>\n",
       "</table>\n",
       "</div>"
      ],
      "text/plain": [
       "     lesion_id  image_id  dx  dx_type  age  sex  localization  path  \\\n",
       "0  HAM_0000001         1   1        1    1    1             1     1   \n",
       "1  HAM_0000003         1   1        1    1    1             1     1   \n",
       "2  HAM_0000004         1   1        1    1    1             1     1   \n",
       "3  HAM_0000007         1   1        1    1    1             1     1   \n",
       "4  HAM_0000008         1   1        1    1    1             1     1   \n",
       "\n",
       "   cell_type  cell_type_idx  \n",
       "0          1              1  \n",
       "1          1              1  \n",
       "2          1              1  \n",
       "3          1              1  \n",
       "4          1              1  "
      ]
     },
     "execution_count": 17,
     "metadata": {},
     "output_type": "execute_result"
    }
   ],
   "source": [
    "# this will tell us how many images are associated with each lesion_id\n",
    "df_ = df.groupby('lesion_id').count()\n",
    "\n",
    "# now we filter out lesion_id's that have only one image associated with it\n",
    "df_ = df_[df_['image_id'] == 1]\n",
    "\n",
    "df_.reset_index(inplace=True)\n",
    "\n",
    "df_.head()"
   ]
  },
  {
   "cell_type": "code",
   "execution_count": 18,
   "metadata": {},
   "outputs": [
    {
     "data": {
      "text/html": [
       "<div>\n",
       "<style scoped>\n",
       "    .dataframe tbody tr th:only-of-type {\n",
       "        vertical-align: middle;\n",
       "    }\n",
       "\n",
       "    .dataframe tbody tr th {\n",
       "        vertical-align: top;\n",
       "    }\n",
       "\n",
       "    .dataframe thead th {\n",
       "        text-align: right;\n",
       "    }\n",
       "</style>\n",
       "<table border=\"1\" class=\"dataframe\">\n",
       "  <thead>\n",
       "    <tr style=\"text-align: right;\">\n",
       "      <th></th>\n",
       "      <th>lesion_id</th>\n",
       "      <th>image_id</th>\n",
       "      <th>dx</th>\n",
       "      <th>dx_type</th>\n",
       "      <th>age</th>\n",
       "      <th>sex</th>\n",
       "      <th>localization</th>\n",
       "      <th>path</th>\n",
       "      <th>cell_type</th>\n",
       "      <th>cell_type_idx</th>\n",
       "      <th>duplicates</th>\n",
       "    </tr>\n",
       "  </thead>\n",
       "  <tbody>\n",
       "    <tr>\n",
       "      <th>0</th>\n",
       "      <td>HAM_0000118</td>\n",
       "      <td>ISIC_0027419</td>\n",
       "      <td>bkl</td>\n",
       "      <td>histo</td>\n",
       "      <td>80.0</td>\n",
       "      <td>male</td>\n",
       "      <td>scalp</td>\n",
       "      <td>../data/HAM10000_images_part_1/ISIC_0027419.jpg</td>\n",
       "      <td>Benign keratosis-like lesions</td>\n",
       "      <td>2</td>\n",
       "      <td>has_duplicates</td>\n",
       "    </tr>\n",
       "    <tr>\n",
       "      <th>1</th>\n",
       "      <td>HAM_0000118</td>\n",
       "      <td>ISIC_0025030</td>\n",
       "      <td>bkl</td>\n",
       "      <td>histo</td>\n",
       "      <td>80.0</td>\n",
       "      <td>male</td>\n",
       "      <td>scalp</td>\n",
       "      <td>../data/HAM10000_images_part_1/ISIC_0025030.jpg</td>\n",
       "      <td>Benign keratosis-like lesions</td>\n",
       "      <td>2</td>\n",
       "      <td>has_duplicates</td>\n",
       "    </tr>\n",
       "    <tr>\n",
       "      <th>2</th>\n",
       "      <td>HAM_0002730</td>\n",
       "      <td>ISIC_0026769</td>\n",
       "      <td>bkl</td>\n",
       "      <td>histo</td>\n",
       "      <td>80.0</td>\n",
       "      <td>male</td>\n",
       "      <td>scalp</td>\n",
       "      <td>../data/HAM10000_images_part_1/ISIC_0026769.jpg</td>\n",
       "      <td>Benign keratosis-like lesions</td>\n",
       "      <td>2</td>\n",
       "      <td>has_duplicates</td>\n",
       "    </tr>\n",
       "    <tr>\n",
       "      <th>3</th>\n",
       "      <td>HAM_0002730</td>\n",
       "      <td>ISIC_0025661</td>\n",
       "      <td>bkl</td>\n",
       "      <td>histo</td>\n",
       "      <td>80.0</td>\n",
       "      <td>male</td>\n",
       "      <td>scalp</td>\n",
       "      <td>../data/HAM10000_images_part_1/ISIC_0025661.jpg</td>\n",
       "      <td>Benign keratosis-like lesions</td>\n",
       "      <td>2</td>\n",
       "      <td>has_duplicates</td>\n",
       "    </tr>\n",
       "    <tr>\n",
       "      <th>4</th>\n",
       "      <td>HAM_0001466</td>\n",
       "      <td>ISIC_0031633</td>\n",
       "      <td>bkl</td>\n",
       "      <td>histo</td>\n",
       "      <td>75.0</td>\n",
       "      <td>male</td>\n",
       "      <td>ear</td>\n",
       "      <td>../data/HAM10000_images_part_2/ISIC_0031633.jpg</td>\n",
       "      <td>Benign keratosis-like lesions</td>\n",
       "      <td>2</td>\n",
       "      <td>has_duplicates</td>\n",
       "    </tr>\n",
       "  </tbody>\n",
       "</table>\n",
       "</div>"
      ],
      "text/plain": [
       "     lesion_id      image_id   dx dx_type   age   sex localization  \\\n",
       "0  HAM_0000118  ISIC_0027419  bkl   histo  80.0  male        scalp   \n",
       "1  HAM_0000118  ISIC_0025030  bkl   histo  80.0  male        scalp   \n",
       "2  HAM_0002730  ISIC_0026769  bkl   histo  80.0  male        scalp   \n",
       "3  HAM_0002730  ISIC_0025661  bkl   histo  80.0  male        scalp   \n",
       "4  HAM_0001466  ISIC_0031633  bkl   histo  75.0  male          ear   \n",
       "\n",
       "                                              path  \\\n",
       "0  ../data/HAM10000_images_part_1/ISIC_0027419.jpg   \n",
       "1  ../data/HAM10000_images_part_1/ISIC_0025030.jpg   \n",
       "2  ../data/HAM10000_images_part_1/ISIC_0026769.jpg   \n",
       "3  ../data/HAM10000_images_part_1/ISIC_0025661.jpg   \n",
       "4  ../data/HAM10000_images_part_2/ISIC_0031633.jpg   \n",
       "\n",
       "                        cell_type  cell_type_idx      duplicates  \n",
       "0  Benign keratosis-like lesions               2  has_duplicates  \n",
       "1  Benign keratosis-like lesions               2  has_duplicates  \n",
       "2  Benign keratosis-like lesions               2  has_duplicates  \n",
       "3  Benign keratosis-like lesions               2  has_duplicates  \n",
       "4  Benign keratosis-like lesions               2  has_duplicates  "
      ]
     },
     "execution_count": 18,
     "metadata": {},
     "output_type": "execute_result"
    }
   ],
   "source": [
    "# here we identify lesion_id's that have duplicate images and those that have only\n",
    "# one image.\n",
    "\n",
    "def identify_duplicates(x):\n",
    "    df_['lesion_id']\n",
    "    \n",
    "    unique_list = list(df_['lesion_id'])\n",
    "    \n",
    "    if x in unique_list:\n",
    "        return 'no_duplicates'\n",
    "    else:\n",
    "        return 'has_duplicates'\n",
    "    \n",
    "# create a new colum that is a copy of the lesion_id column\n",
    "df['duplicates'] = df['lesion_id']\n",
    "# apply the function to this new column\n",
    "df['duplicates'] = df['duplicates'].apply(identify_duplicates)\n",
    "\n",
    "df.head()"
   ]
  },
  {
   "cell_type": "code",
   "execution_count": 19,
   "metadata": {},
   "outputs": [
    {
     "data": {
      "text/plain": [
       "no_duplicates     5514\n",
       "has_duplicates    4501\n",
       "Name: duplicates, dtype: int64"
      ]
     },
     "execution_count": 19,
     "metadata": {},
     "output_type": "execute_result"
    }
   ],
   "source": [
    "df['duplicates'].value_counts()\n"
   ]
  },
  {
   "cell_type": "code",
   "execution_count": 20,
   "metadata": {},
   "outputs": [
    {
     "data": {
      "text/plain": [
       "(5514, 11)"
      ]
     },
     "execution_count": 20,
     "metadata": {},
     "output_type": "execute_result"
    }
   ],
   "source": [
    "# now we filter out images that don't have duplicates\n",
    "df_ = df[df['duplicates'] == 'no_duplicates']\n",
    "\n",
    "df_.shape"
   ]
  },
  {
   "cell_type": "code",
   "execution_count": 21,
   "metadata": {},
   "outputs": [
    {
     "data": {
      "text/plain": [
       "(828, 11)"
      ]
     },
     "execution_count": 21,
     "metadata": {},
     "output_type": "execute_result"
    }
   ],
   "source": [
    "# now we create a val set using df because we are sure that none of these images\n",
    "# have augmented duplicates in the train set\n",
    "y = df_['dx']\n",
    "\n",
    "_, df_val = train_test_split(df_, test_size=0.15, random_state=101, stratify=y)\n",
    "\n",
    "df_val.shape"
   ]
  },
  {
   "cell_type": "code",
   "execution_count": 22,
   "metadata": {},
   "outputs": [
    {
     "name": "stdout",
     "output_type": "stream",
     "text": [
      "9187\n",
      "828\n"
     ]
    }
   ],
   "source": [
    "# This set will be df_data excluding all rows that are in the val set\n",
    "\n",
    "# This function identifies if an image is part of the train\n",
    "# or val set.\n",
    "def identify_val_rows(x):\n",
    "    # create a list of all the lesion_id's in the val set\n",
    "    val_list = list(df_val['image_id'])\n",
    "    \n",
    "    if str(x) in val_list:\n",
    "        return 'val'\n",
    "    else:\n",
    "        return 'train'\n",
    "\n",
    "# identify train and val rows\n",
    "\n",
    "# create a new colum that is a copy of the image_id column\n",
    "df['train_or_val'] = df['image_id']\n",
    "# apply the function to this new column\n",
    "df['train_or_val'] = df['train_or_val'].apply(identify_val_rows)\n",
    "   \n",
    "# filter out train rows\n",
    "df_train = df[df['train_or_val'] == 'train']\n",
    "\n",
    "\n",
    "print(len(df_train))\n",
    "print(len(df_val))"
   ]
  },
  {
   "cell_type": "code",
   "execution_count": 23,
   "metadata": {},
   "outputs": [
    {
     "data": {
      "text/plain": [
       "nv       6042\n",
       "mel      1079\n",
       "bkl      1033\n",
       "bcc       488\n",
       "akiec     304\n",
       "vasc      132\n",
       "df        109\n",
       "Name: dx, dtype: int64"
      ]
     },
     "execution_count": 23,
     "metadata": {},
     "output_type": "execute_result"
    }
   ],
   "source": [
    "df_train['dx'].value_counts()\n"
   ]
  },
  {
   "cell_type": "code",
   "execution_count": 24,
   "metadata": {},
   "outputs": [
    {
     "data": {
      "text/plain": [
       "nv       663\n",
       "bkl       66\n",
       "mel       34\n",
       "bcc       26\n",
       "akiec     23\n",
       "vasc      10\n",
       "df         6\n",
       "Name: dx, dtype: int64"
      ]
     },
     "execution_count": 24,
     "metadata": {},
     "output_type": "execute_result"
    }
   ],
   "source": [
    "df_val['dx'].value_counts()\n"
   ]
  },
  {
   "cell_type": "code",
   "execution_count": 25,
   "metadata": {},
   "outputs": [],
   "source": [
    "# Set the image_id as the index in df_data\n",
    "df.set_index('image_id', inplace=True)\n"
   ]
  },
  {
   "cell_type": "code",
   "execution_count": 26,
   "metadata": {},
   "outputs": [],
   "source": [
    "# # Get a list of images in each of the two folders\n",
    "# folder_1 = os.listdir('../data/HAM10000_images_part_1')\n",
    "# folder_2 = os.listdir('../data/HAM10000_images_part_2')\n",
    "\n",
    "# # Get a list of train and val images\n",
    "# train_list = list(df_train['image_id'])\n",
    "# val_list = list(df_val['image_id'])\n",
    "\n"
   ]
  },
  {
   "cell_type": "code",
   "execution_count": 27,
   "metadata": {},
   "outputs": [],
   "source": [
    "# import shutil\n",
    "# # Transfer the train images\n",
    "\n",
    "# for image in train_list:\n",
    "    \n",
    "#     fname = image + '.jpg'\n",
    "#     label = df.loc[image,'dx']\n",
    "    \n",
    "#     if fname in folder_1:\n",
    "#         # source path to image\n",
    "#         src = os.path.join('../data/HAM10000_images_part_1', fname)\n",
    "#         # destination path to image\n",
    "#         dst = os.path.join(train_dir, label, fname)\n",
    "#         # copy the image from the source to the destination\n",
    "#         shutil.copyfile(src, dst)\n",
    "\n",
    "#     if fname in folder_2:\n",
    "#         # source path to image\n",
    "#         src = os.path.join('../data/HAM10000_images_part_2', fname)\n",
    "#         # destination path to image\n",
    "#         dst = os.path.join(train_dir, label, fname)\n",
    "#         # copy the image from the source to the destination\n",
    "#         shutil.copyfile(src, dst)\n",
    "\n"
   ]
  },
  {
   "cell_type": "code",
   "execution_count": 28,
   "metadata": {},
   "outputs": [],
   "source": [
    "\n",
    "# # Transfer the val images\n",
    "\n",
    "# for image in val_list:\n",
    "    \n",
    "#     fname = image + '.jpg'\n",
    "#     label = df.loc[image,'dx']\n",
    "    \n",
    "#     if fname in folder_1:\n",
    "#         # source path to image\n",
    "#         src = os.path.join('../data/HAM10000_images_part_1', fname)\n",
    "#         # destination path to image\n",
    "#         dst = os.path.join(val_dir, label, fname)\n",
    "#         # copy the image from the source to the destination\n",
    "#         shutil.copyfile(src, dst)\n",
    "\n",
    "#     if fname in folder_2:\n",
    "#         # source path to image\n",
    "#         src = os.path.join('../data/HAM10000_images_part_2', fname)\n",
    "#         # destination path to image\n",
    "#         dst = os.path.join(val_dir, label, fname)\n",
    "#         # copy the image from the source to the destination\n",
    "#         shutil.copyfile(src, dst)\n",
    "        "
   ]
  },
  {
   "cell_type": "code",
   "execution_count": 29,
   "metadata": {},
   "outputs": [
    {
     "name": "stdout",
     "output_type": "stream",
     "text": [
      "6042\n",
      "5945\n",
      "5965\n",
      "5906\n",
      "5268\n",
      "5330\n",
      "4410\n"
     ]
    }
   ],
   "source": [
    "# check how many train images we have in each folder\n",
    "\n",
    "print(len(os.listdir('base_dir/train_dir/nv')))\n",
    "print(len(os.listdir('base_dir/train_dir/mel')))\n",
    "print(len(os.listdir('base_dir/train_dir/bkl')))\n",
    "print(len(os.listdir('base_dir/train_dir/bcc')))\n",
    "print(len(os.listdir('base_dir/train_dir/akiec')))\n",
    "print(len(os.listdir('base_dir/train_dir/vasc')))\n",
    "print(len(os.listdir('base_dir/train_dir/df')))"
   ]
  },
  {
   "cell_type": "code",
   "execution_count": 30,
   "metadata": {},
   "outputs": [
    {
     "name": "stdout",
     "output_type": "stream",
     "text": [
      "663\n",
      "34\n",
      "66\n",
      "26\n",
      "23\n",
      "10\n",
      "6\n"
     ]
    }
   ],
   "source": [
    "# check how many val images we have in each folder\n",
    "\n",
    "print(len(os.listdir('base_dir/val_dir/nv')))\n",
    "print(len(os.listdir('base_dir/val_dir/mel')))\n",
    "print(len(os.listdir('base_dir/val_dir/bkl')))\n",
    "print(len(os.listdir('base_dir/val_dir/bcc')))\n",
    "print(len(os.listdir('base_dir/val_dir/akiec')))\n",
    "print(len(os.listdir('base_dir/val_dir/vasc')))\n",
    "print(len(os.listdir('base_dir/val_dir/df')))"
   ]
  },
  {
   "cell_type": "code",
   "execution_count": 31,
   "metadata": {},
   "outputs": [],
   "source": [
    "# import tensorflow\n",
    "\n",
    "# from tensorflow.keras.preprocessing.image import ImageDataGenerator\n",
    "# # Copy the train images into aug_dir\n",
    "# # note that we are not augmenting class 'nv'\n",
    "# class_list = ['mel','bkl','bcc','akiec','vasc','df']\n",
    "\n",
    "# for item in class_list:\n",
    "    \n",
    "#     # We are creating temporary directories here because we delete these directories later\n",
    "#     # create a base dir\n",
    "#     aug_dir = 'aug_dir'\n",
    "#     os.mkdir(aug_dir)\n",
    "#     # create a dir within the base dir to store images of the same class\n",
    "#     img_dir = os.path.join(aug_dir, 'img_dir')\n",
    "#     os.mkdir(img_dir)\n",
    "\n",
    "#     # Choose a class\n",
    "#     img_class = item\n",
    "\n",
    "#     # list all images in that directory\n",
    "#     img_list = os.listdir('base_dir/train_dir/' + img_class)\n",
    "\n",
    "#     # Copy images from the class train dir to the img_dir e.g. class 'mel'\n",
    "#     for fname in img_list:\n",
    "#             # source path to image\n",
    "#             src = os.path.join('base_dir/train_dir/' + img_class, fname)\n",
    "#             # destination path to image\n",
    "#             dst = os.path.join(img_dir, fname)\n",
    "#             # copy the image from the source to the destination\n",
    "#             shutil.copyfile(src, dst)\n",
    "\n",
    "\n",
    "#     # point to a dir containing the images and not to the images themselves\n",
    "#     path = aug_dir\n",
    "#     save_path = 'base_dir/train_dir/' + img_class\n",
    "\n",
    "#     # Create a data generator\n",
    "#     datagen = ImageDataGenerator(\n",
    "#         rotation_range=180,\n",
    "#         width_shift_range=0.1,\n",
    "#         height_shift_range=0.1,\n",
    "#         zoom_range=0.1,\n",
    "#         horizontal_flip=True,\n",
    "#         vertical_flip=True,\n",
    "#         #brightness_range=(0.9,1.1),\n",
    "#         fill_mode='nearest')\n",
    "\n",
    "#     batch_size = 50\n",
    "\n",
    "#     aug_datagen = datagen.flow_from_directory(path,\n",
    "#                                            save_to_dir=save_path,\n",
    "#                                            save_format='jpg',\n",
    "#                                                     target_size=(224,224),\n",
    "#                                                     batch_size=batch_size)\n",
    "\n",
    "\n",
    "\n",
    "#     # Generate the augmented images and add them to the training folders\n",
    "    \n",
    "#     ###########\n",
    "    \n",
    "#     num_aug_images_wanted = 6000 # total number of images we want to have in each class\n",
    "    \n",
    "#     ###########\n",
    "    \n",
    "#     num_files = len(os.listdir(img_dir))\n",
    "#     num_batches = int(np.ceil((num_aug_images_wanted-num_files)/batch_size))\n",
    "\n",
    "#     # run the generator and create about 6000 augmented images\n",
    "#     for i in range(0,num_batches):\n",
    "\n",
    "#         imgs, labels = next(aug_datagen)\n",
    "        \n",
    "#     # delete temporary directory with the raw image files\n",
    "#     shutil.rmtree('aug_dir')"
   ]
  },
  {
   "cell_type": "code",
   "execution_count": null,
   "metadata": {},
   "outputs": [],
   "source": []
  },
  {
   "cell_type": "code",
   "execution_count": 32,
   "metadata": {},
   "outputs": [
    {
     "name": "stdout",
     "output_type": "stream",
     "text": [
      "6042\n",
      "5945\n",
      "5965\n",
      "5906\n",
      "5268\n",
      "5330\n",
      "4410\n"
     ]
    }
   ],
   "source": [
    "# Check how many train images we now have in each folder.\n",
    "# This is the original images plus the augmented images.\n",
    "\n",
    "print(len(os.listdir('base_dir/train_dir/nv')))\n",
    "print(len(os.listdir('base_dir/train_dir/mel')))\n",
    "print(len(os.listdir('base_dir/train_dir/bkl')))\n",
    "print(len(os.listdir('base_dir/train_dir/bcc')))\n",
    "print(len(os.listdir('base_dir/train_dir/akiec')))\n",
    "print(len(os.listdir('base_dir/train_dir/vasc')))\n",
    "print(len(os.listdir('base_dir/train_dir/df')))"
   ]
  },
  {
   "cell_type": "code",
   "execution_count": 33,
   "metadata": {},
   "outputs": [
    {
     "name": "stdout",
     "output_type": "stream",
     "text": [
      "663\n",
      "34\n",
      "66\n",
      "26\n",
      "23\n",
      "10\n",
      "6\n"
     ]
    }
   ],
   "source": [
    "# Check how many val images we have in each folder.\n",
    "\n",
    "print(len(os.listdir('base_dir/val_dir/nv')))\n",
    "print(len(os.listdir('base_dir/val_dir/mel')))\n",
    "print(len(os.listdir('base_dir/val_dir/bkl')))\n",
    "print(len(os.listdir('base_dir/val_dir/bcc')))\n",
    "print(len(os.listdir('base_dir/val_dir/akiec')))\n",
    "print(len(os.listdir('base_dir/val_dir/vasc')))\n",
    "print(len(os.listdir('base_dir/val_dir/df')))"
   ]
  },
  {
   "cell_type": "code",
   "execution_count": 34,
   "metadata": {},
   "outputs": [],
   "source": [
    "\n",
    "\n",
    "# def plots(ims, figsize=(12,6), rows=5, interp=False, titles=None): # 12,6\n",
    "#     if type(ims[0]) is np.ndarray:\n",
    "#         ims = np.array(ims).astype(np.uint8)\n",
    "#         if (ims.shape[-1] != 3):\n",
    "#             ims = ims.transpose((0,2,3,1))\n",
    "#     f = plt.figure(figsize=figsize)\n",
    "#     cols = len(ims)//rows if len(ims) % 2 == 0 else len(ims)//rows + 1\n",
    "#     for i in range(len(ims)):\n",
    "#         sp = f.add_subplot(rows, cols, i+1)\n",
    "#         sp.axis('Off')\n",
    "#         if titles is not None:\n",
    "#             sp.set_title(titles[i], fontsize=16)\n",
    "#         plt.imshow(ims[i], interpolation=None if interp else 'none')\n",
    "        \n",
    "# plots(imgs, titles=None) # titles=labels will display the image labels"
   ]
  },
  {
   "cell_type": "code",
   "execution_count": 35,
   "metadata": {},
   "outputs": [],
   "source": [
    "# Set Up the Generators\n",
    "train_path = 'base_dir/train_dir'\n",
    "valid_path = 'base_dir/val_dir'\n",
    "\n",
    "num_train_samples = len(df_train)\n",
    "num_val_samples = len(df_val)\n",
    "train_batch_size = 10\n",
    "val_batch_size = 10\n",
    "image_size = 224\n",
    "\n",
    "train_steps = np.ceil(num_train_samples / train_batch_size)\n",
    "val_steps = np.ceil(num_val_samples / val_batch_size)\n"
   ]
  },
  {
   "cell_type": "code",
   "execution_count": 36,
   "metadata": {},
   "outputs": [],
   "source": [
    "# Normalisation of values for pretreated resnet network..\n",
    "norm_mean = (0.4914, 0.4822, 0.4465)\n",
    "norm_std = (0.2023, 0.1994, 0.2010)\n",
    "transform_train = transforms.Compose([\n",
    "                    transforms.Resize((224,224)),\n",
    "                    transforms.ToTensor(),\n",
    "                    transforms.Normalize(norm_mean, norm_std),\n",
    "                    ])\n",
    "\n",
    "transform_test = transforms.Compose([\n",
    "                    transforms.Resize((224,224)),\n",
    "                    transforms.ToTensor(),\n",
    "                    transforms.Normalize((0.4914, 0.4822, 0.4465), (0.2023, 0.1994, 0.2010)),\n",
    "                    ])"
   ]
  },
  {
   "cell_type": "code",
   "execution_count": 37,
   "metadata": {},
   "outputs": [
    {
     "data": {
      "text/plain": [
       "38866"
      ]
     },
     "execution_count": 37,
     "metadata": {},
     "output_type": "execute_result"
    }
   ],
   "source": [
    "## Load train dataset\n",
    "import torchvision\n",
    "\n",
    "train_dataset  = torchvision.datasets.ImageFolder(root= train_path, transform=transform_train)\n",
    "\n",
    "    ## Load the labels\n",
    "# train_data_label = [s[1] for s in train_dataset.samples]\n",
    "len(train_dataset)"
   ]
  },
  {
   "cell_type": "code",
   "execution_count": 38,
   "metadata": {},
   "outputs": [
    {
     "data": {
      "text/plain": [
       "828"
      ]
     },
     "execution_count": 38,
     "metadata": {},
     "output_type": "execute_result"
    }
   ],
   "source": [
    "## Load validation dataset\n",
    "\n",
    "test_dataset = torchvision.datasets.ImageFolder(root= valid_path,transform=transform_test)\n",
    "    ## Load the labels\n",
    "# test_data_label = [s[1] for s in test_dataset.samples]\n",
    "len(test_dataset)"
   ]
  },
  {
   "cell_type": "code",
   "execution_count": 39,
   "metadata": {},
   "outputs": [],
   "source": [
    "\n",
    "train_data_loader = torch.utils.data.DataLoader(train_dataset, batch_size=train_batch_size, shuffle=True,num_workers=3,pin_memory=True)\n",
    "validation_data_loader = torch.utils.data.DataLoader(test_dataset, batch_size=val_batch_size, shuffle=False,num_workers=3,pin_memory=True)\n",
    "test_data_loader = \"\"\n",
    "# Note: shuffle=False causes the test dataset to not be shuffled\n",
    "# test_data_loader = torch.utils.data.DataLoader(test_dataset, batch_size=10, shuffle=False,num_workers=3,pin_memory=True)"
   ]
  },
  {
   "cell_type": "code",
   "execution_count": 40,
   "metadata": {},
   "outputs": [
    {
     "data": {
      "text/plain": [
       "3887"
      ]
     },
     "execution_count": 40,
     "metadata": {},
     "output_type": "execute_result"
    }
   ],
   "source": [
    "len(train_data_loader)"
   ]
  },
  {
   "cell_type": "code",
   "execution_count": 41,
   "metadata": {},
   "outputs": [
    {
     "data": {
      "text/plain": [
       "tensor([6, 3, 0, 4, 5, 0, 1, 4, 3, 2])"
      ]
     },
     "execution_count": 41,
     "metadata": {},
     "output_type": "execute_result"
    }
   ],
   "source": [
    "dataiter = iter(train_data_loader)\n",
    "images, labels = dataiter.next()\n",
    "\n",
    "labels"
   ]
  },
  {
   "cell_type": "code",
   "execution_count": 89,
   "metadata": {},
   "outputs": [],
   "source": [
    "# Copyright (c) Meta Platforms, Inc. and affiliates.\n",
    "\n",
    "# All rights reserved.\n",
    "\n",
    "# This source code is licensed under the license found in the\n",
    "# LICENSE file in the root directory of this source tree.\n",
    "\n",
    "import math\n",
    "import torch\n",
    "import torch.nn as nn\n",
    "import torch.nn.functional as F\n",
    "from timm.models.layers import trunc_normal_, DropPath\n",
    "from timm.models.registry import register_model\n",
    "\n",
    "\n",
    "class CA(nn.Module):\n",
    "    def __init__(self, channel, ratio=16):\n",
    "        super(CA, self).__init__()\n",
    "        self.channel = channel\n",
    "\n",
    "        self.avg_pool = nn.AdaptiveAvgPool2d(1)\n",
    "        self.max_pool = nn.AdaptiveMaxPool2d(1)\n",
    "        self.fc = nn.Sequential(\n",
    "            nn.Linear(self.channel, self.channel // ratio, True),\n",
    "            nn.ReLU(),\n",
    "            nn.Linear(self.channel // ratio, self.channel, True),\n",
    "            nn.Sigmoid()\n",
    "        )\n",
    "\n",
    "    def forward(self, x):\n",
    "        b, c, w, h = x.size()\n",
    "        inputs = x\n",
    "        avg_ = self.avg_pool(x).view([b, c])\n",
    "        max_ = self.max_pool(x).view([b, c])\n",
    "\n",
    "        avg_fc_ = self.fc(avg_).view([b, c, 1, 1])\n",
    "        max_fc_ = self.fc(max_).view([b, c, 1, 1])\n",
    "\n",
    "        output = avg_fc_ + max_fc_\n",
    "\n",
    "        return output * inputs\n",
    "\n",
    "\n",
    "class SA(nn.Module):\n",
    "    def __init__(self, kernel_size=3):\n",
    "        super(SA, self).__init__()\n",
    "        assert kernel_size in (3, 7, 15, 27, 31)\n",
    "        padding = 3 if kernel_size == 7 else 1\n",
    "        self.conv1 = nn.Conv2d(2, 1, kernel_size=kernel_size, padding=padding)\n",
    "        self.sigmoid = nn.Sigmoid()\n",
    "\n",
    "    def forward(self, x):\n",
    "        inputs = x\n",
    "        avg_pool = torch.mean(x, dim=1, keepdim=True)\n",
    "        max_pool, _ = torch.max(x, dim=1, keepdim=True)\n",
    "        x = torch.cat([avg_pool, max_pool], dim=1)\n",
    "        x = self.conv1(x)\n",
    "        return inputs * self.sigmoid(x)\n",
    "\n",
    "\n",
    "class SENET(nn.Module):\n",
    "    def __init__(self, channel, ratio=16):\n",
    "        super(SENET, self).__init__()\n",
    "        self.channel = channel\n",
    "\n",
    "        self.avg_pool = nn.AdaptiveAvgPool2d(1)  # 定义全局平均池化层，结果为[b, a, 1, 1] b表示batchsize, c表示通道数\n",
    "        # 定义全连接层\n",
    "        self.fc = nn.Sequential(\n",
    "            nn.Linear(channel, channel // ratio, True),\n",
    "            nn.ReLU(),\n",
    "            nn.Linear(channel // ratio, channel, True),\n",
    "            nn.Sigmoid()\n",
    "        )\n",
    "\n",
    "    def forward(self, x):\n",
    "        b, c, w, h = x.size()\n",
    "        inputs = x\n",
    "\n",
    "        inpust_avg = self.avg_pool(x).view([b, c])\n",
    "\n",
    "        inputs_fc = self.fc(inpust_avg).view([b, c, 1, 1])\n",
    "\n",
    "        return inputs_fc * inputs\n",
    "\n",
    "\n",
    "class ECANET(nn.Module):\n",
    "    def __init__(self, channel, b=1, gamma=2):\n",
    "        super(ECANET, self).__init__()\n",
    "        self.channel = channel\n",
    "\n",
    "        kernel_size = int(abs((math.log(channel, 2) + b) / gamma))\n",
    "        kernel_size = kernel_size if kernel_size % 2 else kernel_size + 1\n",
    "        padding = (kernel_size - 1) // 2\n",
    "\n",
    "        self.avg_pool = nn.AdaptiveAvgPool2d(1)\n",
    "        self.conv1d = nn.Conv1d(1, 1, kernel_size=kernel_size, padding=padding, bias=True)\n",
    "        self.sigmoid = nn.Sigmoid()\n",
    "\n",
    "    def forward(self, x):\n",
    "        y = self.avg_pool(x)\n",
    "        y = self.conv1d(y.squeeze(-1).transpose(-1, -2)).transpose(-1, -2).unsqueeze(-1)\n",
    "        y = self.sigmoid(y)\n",
    "\n",
    "        return x * y.expand_as(x)\n",
    "\n",
    "\n",
    "class CASA(nn.Module):\n",
    "    def __init__(self, channel):\n",
    "        super(CASA, self).__init__()\n",
    "        self.CA = CA(channel)\n",
    "        self.SA = SA(kernel_size=7)\n",
    "\n",
    "    def forward(self, x):\n",
    "        inputs = x\n",
    "        ca_x = self.CA(x)\n",
    "        output = ca_x * inputs\n",
    "        sa_x = self.SA(output)\n",
    "        output_ = sa_x * output\n",
    "\n",
    "        return output_\n",
    "\n",
    "class SACA(nn.Module):\n",
    "    def __init__(self, channel):\n",
    "        super(SACA, self).__init__()\n",
    "        self.CA = CA(channel)\n",
    "        self.SA = SA(kernel_size=7)\n",
    "\n",
    "    def forward(self, x):\n",
    "        inputs = x\n",
    "        sa_x = self.SA(x)\n",
    "        output = sa_x * inputs\n",
    "        ca_x = self.CA(output)\n",
    "        output_ = ca_x * output\n",
    "\n",
    "        return output_\n",
    "\n",
    "\n",
    "\n",
    "class Block(nn.Module):\n",
    "    r\"\"\" ConvNeXt Block. There are two equivalent implementations:\n",
    "    (1) DwConv -> LayerNorm (channels_first) -> 1x1 Conv -> GELU -> 1x1 Conv; all in (N, C, H, W)\n",
    "    (2) DwConv -> Permute to (N, H, W, C); LayerNorm (channels_last) -> Linear -> GELU -> Linear; Permute back\n",
    "    We use (2) as we find it slightly faster in PyTorch\n",
    "\n",
    "    Args:\n",
    "        dim (int): Number of input channels.\n",
    "        drop_path (float): Stochastic depth rate. Default: 0.0\n",
    "        layer_scale_init_value (float): Init value for Layer Scale. Default: 1e-6.\n",
    "    \"\"\"\n",
    "\n",
    "    def __init__(self, dim, drop_path=0., layer_scale_init_value=1e-6):\n",
    "        super().__init__()\n",
    "        self.dwconv = nn.Conv2d(dim, dim, kernel_size=7, padding=3, groups=dim)  # depthwise conv\n",
    "        self.norm = LayerNorm(dim, eps=1e-6)\n",
    "        self.pwconv1 = nn.Linear(dim, 4 * dim)  # pointwise/1x1 convs, implemented with linear layers\n",
    "        self.act = nn.GELU()\n",
    "        self.pwconv2 = nn.Linear(4 * dim, dim)\n",
    "        self.gamma = nn.Parameter(layer_scale_init_value * torch.ones((dim)),\n",
    "                                  requires_grad=True) if layer_scale_init_value > 0 else None\n",
    "        self.drop_path = DropPath(drop_path) if drop_path > 0. else nn.Identity()\n",
    "\n",
    "    def forward(self, x):\n",
    "        input = x\n",
    "        x = self.dwconv(x)\n",
    "        x = x.permute(0, 2, 3, 1)  # (N, C, H, W) -> (N, H, W, C)\n",
    "        x = self.norm(x)\n",
    "        x = self.pwconv1(x)\n",
    "        x = self.act(x)\n",
    "        x = self.pwconv2(x)\n",
    "        if self.gamma is not None:\n",
    "            x = self.gamma * x\n",
    "        x = x.permute(0, 3, 1, 2)  # (N, H, W, C) -> (N, C, H, W)\n",
    "\n",
    "        x = input + self.drop_path(x)\n",
    "        return x\n",
    "\n",
    "\n",
    "class ConvNeXtAa(nn.Module):\n",
    "    r\"\"\" ConvNeXt\n",
    "        A PyTorch impl of : `A ConvNet for the 2020s`  -\n",
    "          https://arxiv.org/pdf/2201.03545.pdf\n",
    "\n",
    "    Args:\n",
    "        in_chans (int): Number of input image channels. Default: 3\n",
    "        num_classes (int): Number of classes for classification head. Default: 1000\n",
    "        depths (tuple(int)): Number of blocks at each stage. Default: [3, 3, 9, 3]\n",
    "        dims (int): Feature dimension at each stage. Default: [96, 192, 384, 768]\n",
    "        drop_path_rate (float): Stochastic depth rate. Default: 0.\n",
    "        layer_scale_init_value (float): Init value for Layer Scale. Default: 1e-6.\n",
    "        head_init_scale (float): Init scaling value for classifier weights and biases. Default: 1.\n",
    "    \"\"\"\n",
    "\n",
    "    def __init__(self, in_chans=3, num_classes=1000,\n",
    "                 depths=[3, 3, 9, 3], dims=[96, 192, 384, 768], drop_path_rate=0.,\n",
    "                 layer_scale_init_value=1e-6, head_init_scale=1., aa=\"ca\"\n",
    "                 ):\n",
    "        super().__init__()\n",
    "        if aa == \"ca\":\n",
    "            print(\"====> based on Channel Attention!\")\n",
    "            self.AA = CA(channel=dims[-1])\n",
    "        elif aa == \"sa\":\n",
    "            print(\"====> based on Spatial Attention!\")\n",
    "            self.AA = SA(kernel_size=3)\n",
    "        elif aa == \"senet\":\n",
    "            print(\"====> based on SENet!\")\n",
    "            self.AA = SENET(channel=dims[-1])\n",
    "        elif aa == \"ecanet\":\n",
    "            print(\"====> based on ECANet!\")\n",
    "            self.AA = ECANET(channel=dims[-1])\n",
    "        elif aa == \"casa\":\n",
    "            print(\"====> based on Channel Attention and Spatial Attention!\")\n",
    "            self.AA = CASA(channel=dims[-1])\n",
    "        elif aa == \"saca\":\n",
    "            print(\"====> based on Spatial Attention and Channel Attention!\")\n",
    "            self.AA = SACA(channel=dims[-1])\n",
    "        elif aa == \"fcanet\":\n",
    "            print(\"====> based on Frequency Attention and Channel Attention!\")\n",
    "            self.AA = FcaLayer(channel=dims[-1],reduction=16,width=224,height=224)\n",
    "            print(dims[-1])\n",
    "        else:\n",
    "            raise ValueError\n",
    "\n",
    "        self.downsample_layers = nn.ModuleList()  # stem and 3 intermediate downsampling conv layers\n",
    "        stem = nn.Sequential(\n",
    "            nn.Conv2d(in_chans, dims[0], kernel_size=4, stride=4),\n",
    "            LayerNorm(dims[0], eps=1e-6, data_format=\"channels_first\")\n",
    "        )\n",
    "        self.downsample_layers.append(stem)\n",
    "        for i in range(3):\n",
    "            downsample_layer = nn.Sequential(\n",
    "                LayerNorm(dims[i], eps=1e-6, data_format=\"channels_first\"),\n",
    "                nn.Conv2d(dims[i], dims[i + 1], kernel_size=2, stride=2),\n",
    "            )\n",
    "            self.downsample_layers.append(downsample_layer)\n",
    "\n",
    "        self.stages = nn.ModuleList()  # 4 feature resolution stages, each consisting of multiple residual blocks\n",
    "        dp_rates = [x.item() for x in torch.linspace(0, drop_path_rate, sum(depths))]\n",
    "        cur = 0\n",
    "        for i in range(4):\n",
    "            stage = nn.Sequential(\n",
    "                *[Block(dim=dims[i], drop_path=dp_rates[cur + j],\n",
    "                        layer_scale_init_value=layer_scale_init_value) for j in range(depths[i])]\n",
    "            )\n",
    "            self.stages.append(stage)\n",
    "            cur += depths[i]\n",
    "\n",
    "        self.norm = nn.LayerNorm(dims[-1], eps=1e-6)  # final norm layer\n",
    "        self.head = nn.Linear(dims[-1], num_classes)\n",
    "\n",
    "        self.apply(self._init_weights)\n",
    "        self.head.weight.data.mul_(head_init_scale)\n",
    "        self.head.bias.data.mul_(head_init_scale)\n",
    "\n",
    "    def _init_weights(self, m):\n",
    "        if isinstance(m, (nn.Conv2d, nn.Linear)):\n",
    "            trunc_normal_(m.weight, std=.02)\n",
    "            nn.init.constant_(m.bias, 0)\n",
    "\n",
    "    def forward_features(self, x):\n",
    "        for i in range(4):\n",
    "            x = self.downsample_layers[i](x)\n",
    "            x = self.stages[i](x)\n",
    "        # return self.norm(x.mean([-2, -1]))  # global average pooling, (N, C, H, W) -> (N, C)\n",
    "        return x\n",
    "\n",
    "    def forward(self, x):\n",
    "        x = self.forward_features(x)\n",
    "#         x = x + self.AA(x)\n",
    "        x = self.norm(x.mean([-2, -1]))\n",
    "        x = self.head(x)\n",
    "        return x\n",
    "\n",
    "    def freeze_backbone(self):\n",
    "        backbone = [self.downsample_layers, self.stages]\n",
    "        for module in backbone:\n",
    "            try:\n",
    "                for param in module.parameters():\n",
    "                    param.requires_grad = False\n",
    "            except:\n",
    "                module.requires_grad = False\n",
    "\n",
    "    def unfreeze_backbone(self):\n",
    "        backbone = [self.downsample_layers, self.stages]\n",
    "        for module in backbone:\n",
    "            try:\n",
    "                for param in module.parameters():\n",
    "                    param.requires_grad = True\n",
    "            except:\n",
    "                module.requires_grad = True\n",
    "\n",
    "\n",
    "class LayerNorm(nn.Module):\n",
    "    r\"\"\" LayerNorm that supports two data formats: channels_last (default) or channels_first.\n",
    "    The ordering of the dimensions in the inputs. channels_last corresponds to inputs with\n",
    "    shape (batch_size, height, width, channels) while channels_first corresponds to inputs\n",
    "    with shape (batch_size, channels, height, width).\n",
    "    \"\"\"\n",
    "\n",
    "    def __init__(self, normalized_shape, eps=1e-6, data_format=\"channels_last\"):\n",
    "        super().__init__()\n",
    "        self.weight = nn.Parameter(torch.ones(normalized_shape))\n",
    "        self.bias = nn.Parameter(torch.zeros(normalized_shape))\n",
    "        self.eps = eps\n",
    "        self.data_format = data_format\n",
    "        if self.data_format not in [\"channels_last\", \"channels_first\"]:\n",
    "            raise NotImplementedError\n",
    "        self.normalized_shape = (normalized_shape,)\n",
    "\n",
    "    def forward(self, x):\n",
    "        if self.data_format == \"channels_last\":\n",
    "            return F.layer_norm(x, self.normalized_shape, self.weight, self.bias, self.eps)\n",
    "        elif self.data_format == \"channels_first\":\n",
    "            u = x.mean(1, keepdim=True)\n",
    "            s = (x - u).pow(2).mean(1, keepdim=True)\n",
    "            x = (x - u) / torch.sqrt(s + self.eps)\n",
    "            x = self.weight[:, None, None] * x + self.bias[:, None, None]\n",
    "            return x\n",
    "\n",
    "\n",
    "def convnextaa_base(num_classes: int, pretrained=True, aa=\"ca\"):\n",
    "    # https://dl.fbaipublicfiles.com/convnext/convnext_base_1k_224_ema.pth\n",
    "    # https://dl.fbaipublicfiles.com/convnext/convnext_base_22k_224.pth\n",
    "    model = ConvNeXtAa(depths=[3, 3, 27, 3],\n",
    "                       dims=[128, 256, 512, 1024],\n",
    "                       num_classes=num_classes, aa=aa)\n",
    "    if pretrained:\n",
    "        # model.load_state_dict(torch.load(\"/data/CNX_V3/model_data/convnext_base_1k_224_ema.pth\")[\"model\"])\n",
    "        # weights_dict = torch.load(\"/data/CNX_ImageNet100/model_data/convnext_base_1k_224_ema.pth\")[\"model\"]\n",
    "        device = torch.device('cuda' if torch.cuda.is_available() else 'cpu')\n",
    "\n",
    "#         weights_dict = torch.load(\"./cnxECANet-least_valloss.pth\",map_location=device)\n",
    "        weights_dict = torch.load(\"./checkpoint.pt\",map_location=device)\n",
    "\n",
    "        # 删除有关分类类别的权重\n",
    "#         for k in list(weights_dict.keys()):\n",
    "#             if \"head\" in k:\n",
    "#                 del weights_dict[k]\n",
    "#             elif \"norm.weight\" == k:\n",
    "#                 del weights_dict[k]\n",
    "#             elif \"norm.bias\" == k:\n",
    "#                 del weights_dict[k]\n",
    "#         model.load_state_dict(weights_dict, strict=False)\n",
    "    return model\n"
   ]
  },
  {
   "cell_type": "code",
   "execution_count": 74,
   "metadata": {},
   "outputs": [
    {
     "name": "stdout",
     "output_type": "stream",
     "text": [
      "====> based on Channel Attention and Spatial Attention!\n"
     ]
    }
   ],
   "source": [
    "device = torch.device('cuda' if torch.cuda.is_available() else 'cpu')\n",
    "model = convnextaa_base(num_classes=1000, pretrained=True, aa=\"casa\")\n",
    "model.head = nn.Linear(model.head.in_features, 7) ## changing it output layer to skin classes\n",
    "model = model.to(device)"
   ]
  },
  {
   "cell_type": "code",
   "execution_count": null,
   "metadata": {},
   "outputs": [],
   "source": []
  },
  {
   "cell_type": "code",
   "execution_count": 75,
   "metadata": {},
   "outputs": [
    {
     "data": {
      "text/plain": [
       "tensor([1., 1., 1., 1., 3., 1., 1.], device='cuda:0')"
      ]
     },
     "execution_count": 75,
     "metadata": {},
     "output_type": "execute_result"
    }
   ],
   "source": [
    "# import torch.optim as optim\n",
    "# # Add weights to try to make the model more sensitive to melanoma\n",
    "\n",
    "# lr = 1e-4\n",
    "# Init_Epoch = 0\n",
    "# Freeze_Epoch = 50\n",
    "class_weights= [1.0, 1.0, 1.0, 1.0, 3.0, 1.0, 1.0] # Try to make the model more sensitive to Melanoma\n",
    "class_weights = torch.FloatTensor(class_weights)\n",
    "# optimizer = optim.Adam(model.parameters(), lr, weight_decay=5e-4)\n",
    "# lr_scheduler = optim.lr_scheduler.StepLR(optimizer, step_size=1, gamma=0.94)\n",
    "\n",
    "class_weights = class_weights.to(device)\n",
    "# criterion = nn.CrossEntropyLoss(weight = class_weights)\n",
    "class_weights"
   ]
  },
  {
   "cell_type": "code",
   "execution_count": 76,
   "metadata": {},
   "outputs": [],
   "source": [
    "import numpy as np\n",
    "import torch\n",
    "\n",
    "class EarlyStopping:\n",
    "    \"\"\"Early stops the training if validation loss doesn't improve after a given patience.\"\"\"\n",
    "    def __init__(self, patience=7, verbose=False, delta=0):\n",
    "        \"\"\"\n",
    "        Args:\n",
    "            patience (int): How long to wait after last time validation loss improved.\n",
    "                            Default: 7\n",
    "            verbose (bool): If True, prints a message for each validation loss improvement. \n",
    "                            Default: False\n",
    "            delta (float): Minimum change in the monitored quantity to qualify as an improvement.\n",
    "                            Default: 0\n",
    "        \"\"\"\n",
    "        self.patience = patience\n",
    "        self.verbose = verbose\n",
    "        self.counter = 0\n",
    "        self.best_score = None\n",
    "        self.a_best_score = None\n",
    "        self.early_stop = False\n",
    "        self.val_loss_min = np.Inf\n",
    "        self.val_acc_max = 0\n",
    "        self.delta = delta\n",
    "\n",
    "    def __call__(self, val_loss,val_accuracy,model):\n",
    "\n",
    "        score = -val_loss\n",
    "        a_score = val_accuracy\n",
    "\n",
    "        if self.best_score is None:\n",
    "            self.best_score = score\n",
    "            self.a_best_score = a_score\n",
    "            self.save_checkpoint(val_accuracy, model)\n",
    "        elif score < self.best_score + self.delta:\n",
    "            self.counter += 1\n",
    "            print(f'EarlyStopping counter: {self.counter} out of {self.patience}')\n",
    "            if self.counter >= self.patience:\n",
    "                self.early_stop = True\n",
    "            if a_score > self.a_best_score:\n",
    "                self.a_best_score = a_score\n",
    "                self.save_checkpoint(val_accuracy, model)\n",
    "                \n",
    "        else:\n",
    "            self.best_score = score\n",
    "            if a_score > self.a_best_score:\n",
    "                self.a_best_score = a_score\n",
    "                self.save_checkpoint(val_accuracy, model)\n",
    "            self.counter = 0\n",
    "\n",
    "    def save_checkpoint(self, val_accuracy, model):\n",
    "        '''Saves model when validation acurracy increase.'''\n",
    "        if self.verbose:\n",
    "            print(f'Validation accuracy increased ({self.val_acc_max:.6f} --> {val_accuracy:.6f}).  Saving model ...')\n",
    "        torch.save(model.state_dict(), 'checkpoint.pt')\t# 这里会存储迄今最优模型的参数\n",
    "        self.val_acc_max = val_accuracy\n"
   ]
  },
  {
   "cell_type": "code",
   "execution_count": 77,
   "metadata": {},
   "outputs": [],
   "source": [
    "\n",
    "# class FocalLoss:\n",
    "#     def __init__(self, alpha_t=None, gamma=0):\n",
    "#         \"\"\"\n",
    "#         :param alpha_t: A list of weights for each class\n",
    "#         :param gamma:\n",
    "#         \"\"\"\n",
    "#         self.alpha_t = alpha_t \n",
    "#         self.gamma = gamma\n",
    "\n",
    "#     def __call__(self, outputs, targets):\n",
    "#         if self.alpha_t is None and self.gamma == 0:\n",
    "#             focal_loss = torch.nn.functional.cross_entropy(outputs, targets)\n",
    "\n",
    "#         elif self.alpha_t is not None and self.gamma == 0:\n",
    "#             if self.alpha_t.device != outputs.device:\n",
    "#                 self.alpha_t = self.alpha_t.to(outputs)\n",
    "#             focal_loss = torch.nn.functional.cross_entropy(outputs, targets,\n",
    "#                                                            weight=self.alpha_t)\n",
    "\n",
    "#         elif self.alpha_t is None and self.gamma != 0:\n",
    "#             ce_loss = torch.nn.functional.cross_entropy(outputs, targets, reduction='none')\n",
    "#             p_t = torch.exp(-ce_loss)\n",
    "#             focal_loss = ((1 - p_t) ** self.gamma * ce_loss).mean()\n",
    "\n",
    "#         elif self.alpha_t is not None and self.gamma != 0:\n",
    "#             if self.alpha_t.device != outputs.device:\n",
    "#                 self.alpha_t = self.alpha_t.to(outputs)\n",
    "#             ce_loss = torch.nn.functional.cross_entropy(outputs, targets, reduction='none')\n",
    "#             p_t = torch.exp(-ce_loss)\n",
    "#             ce_loss = torch.nn.functional.cross_entropy(outputs, targets,\n",
    "#                                                         weight=self.alpha_t, reduction='none')\n",
    "#             focal_loss = ((1 - p_t) ** self.gamma * ce_loss).mean()  # mean over the batch\n",
    "\n",
    "#         return focal_loss\n",
    "\n"
   ]
  },
  {
   "cell_type": "code",
   "execution_count": 78,
   "metadata": {},
   "outputs": [],
   "source": [
    "\n",
    "# class FocalLoss:\n",
    "#     def __init__(self, alpha_t=None, gamma=0):\n",
    "#         \"\"\"\n",
    "#         :param alpha_t: A list of weights for each class\n",
    "#         :param gamma:\n",
    "#         \"\"\"\n",
    "#         self.alpha_t = alpha_t \n",
    "#         self.gamma = gamma\n",
    "\n",
    "#     def __call__(self, outputs, targets):\n",
    "#         if self.alpha_t is None and self.gamma == 0:\n",
    "#             focal_loss = torch.nn.functional.cross_entropy(outputs, targets)\n",
    "\n",
    "#         elif self.alpha_t is not None and self.gamma == 0:\n",
    "#             if self.alpha_t.device != outputs.device:\n",
    "#                 self.alpha_t = self.alpha_t.to(outputs)\n",
    "#             focal_loss = torch.nn.functional.cross_entropy(outputs, targets,\n",
    "#                                                            weight=self.alpha_t)\n",
    "\n",
    "#         elif self.alpha_t is None and self.gamma != 0:\n",
    "#             ce_loss = torch.nn.functional.cross_entropy(outputs, targets, reduction='none')\n",
    "#             p_t = torch.exp(-ce_loss)\n",
    "#             focal_loss = ((1 - p_t) ** self.gamma * ce_loss).mean()\n",
    "\n",
    "#         elif self.alpha_t is not None and self.gamma != 0:\n",
    "#             if self.alpha_t.device != outputs.device:\n",
    "#                 self.alpha_t = self.alpha_t.to(outputs)\n",
    "#             ce_loss = torch.nn.functional.cross_entropy(outputs, targets, reduction='none')\n",
    "#             p_t = torch.exp(-ce_loss)\n",
    "#             ce_loss = torch.nn.functional.cross_entropy(outputs, targets,\n",
    "#                                                         weight=self.alpha_t, reduction='none')\n",
    "#             focal_loss = ((1 - p_t) ** self.gamma * ce_loss).mean()  # mean over the batch\n",
    "\n",
    "#         return focal_loss\n",
    "\n"
   ]
  },
  {
   "cell_type": "code",
   "execution_count": 79,
   "metadata": {},
   "outputs": [],
   "source": [
    "import torch\n",
    "import torch.nn.functional as F\n",
    "from torch import nn,optim\n",
    "from tqdm import tqdm\n",
    "\n",
    "\n",
    "\n",
    "def fit_one_epoch(model_train, model, optimizer, epoch, epoch_step, epoch_step_val, gen, gen_val, Epoch,\n",
    "                  cuda,class_weights):\n",
    "    total_loss = 0\n",
    "    total_accuracy = 0\n",
    "    val_accuracy = 0\n",
    "    val_loss = 0\n",
    "\n",
    "    model_train.train()\n",
    "#     print('Start Train')\n",
    "    with tqdm(total=epoch_step, desc=f'Epoch {epoch + 1}/{Epoch}', postfix=dict, mininterval=0.3) as pbar:\n",
    "        for iteration, batch in enumerate(gen):\n",
    "            if iteration >= epoch_step:\n",
    "                break\n",
    "            images, targets = batch\n",
    "            with torch.no_grad():\n",
    "#                 images = torch.from_numpy(images).type(torch.FloatTensor)\n",
    "#                 targets = torch.from_numpy(targets).type(torch.FloatTensor).long()\n",
    "                if cuda:\n",
    "                    images = images.cuda()\n",
    "                    targets = targets.cuda()\n",
    "\n",
    "            optimizer.zero_grad()\n",
    "            outputs = model_train(images)\n",
    "            loss_value =  nn.CrossEntropyLoss(class_weights, 2)(outputs, targets)\n",
    "            loss_value.backward()\n",
    "            optimizer.step()\n",
    "\n",
    "            total_loss += loss_value.item()\n",
    "            with torch.no_grad():\n",
    "                accuracy = torch.mean(\n",
    "                    (torch.argmax(F.softmax(outputs, dim=-1), dim=-1) == targets).type(torch.FloatTensor))\n",
    "                total_accuracy += accuracy.item()\n",
    "\n",
    "#             pbar.set_postfix(**{'total_loss': total_loss / (iteration + 1),\n",
    "#                                 'accuracy': total_accuracy / (iteration + 1),\n",
    "#                                 'lr': get_lr(optimizer)})\n",
    "#             pbar.update(1)\n",
    "    train_acc = total_accuracy / epoch_step\n",
    "    train_loss = total_loss / epoch_step\n",
    "#     print('Finish Train')\n",
    "    model_train.eval()\n",
    "#     print('Start Validation')\n",
    "    with tqdm(total=epoch_step_val, desc=f'Epoch {epoch + 1}/{Epoch}', postfix=dict, mininterval=0.3) as pbar:\n",
    "        for iteration, batch in enumerate(gen_val):\n",
    "            if iteration >= epoch_step_val:\n",
    "                break\n",
    "            images, targets = batch\n",
    "            with torch.no_grad():\n",
    "#                 images = torch.from_numpy(images).type(torch.FloatTensor)\n",
    "#                 targets = torch.from_numpy(targets).type(torch.FloatTensor).long()\n",
    "                if cuda:\n",
    "                    images = images.cuda()\n",
    "                    targets = targets.cuda()\n",
    "\n",
    "                optimizer.zero_grad()\n",
    "\n",
    "                outputs = model_train(images)\n",
    "                loss_value =  nn.CrossEntropyLoss(weight=class_weights)(outputs, targets)\n",
    "\n",
    "                val_loss += loss_value.item()\n",
    "            with torch.no_grad():\n",
    "                accuracy = torch.mean(\n",
    "                    (torch.argmax(F.softmax(outputs, dim=-1), dim=-1) == targets).type(torch.FloatTensor))\n",
    "                val_accuracy += accuracy.item()\n",
    "\n",
    "#             pbar.set_postfix(**{'total_loss': val_loss / (iteration + 1),\n",
    "#                                     'lr': get_lr(optimizer)})\n",
    "#             pbar.update(1)\n",
    "\n",
    "#     loss_history.append_loss(total_loss / epoch_step, val_loss / epoch_step_val)\n",
    "    total_val_loss = val_loss/epoch_step_val\n",
    "    total_val_acc = val_accuracy/epoch_step_val\n",
    "    return train_acc,train_loss,total_val_acc,total_val_loss\n",
    "\n",
    "    "
   ]
  },
  {
   "cell_type": "code",
   "execution_count": 80,
   "metadata": {},
   "outputs": [],
   "source": [
    "import torch.backends.cudnn as cudnn\n",
    "if True:\n",
    "    model_train = torch.nn.DataParallel(model)\n",
    "    cudnn.benchmark = True\n",
    "    model_train = model_train.cuda()"
   ]
  },
  {
   "cell_type": "code",
   "execution_count": 81,
   "metadata": {},
   "outputs": [
    {
     "name": "stderr",
     "output_type": "stream",
     "text": [
      "Epoch 1/150:   0%|          | 0/2429 [04:19<?, ?it/s<class 'dict'>]\n",
      "Epoch 1/150:   0%|          | 0/51 [00:02<?, ?it/s<class 'dict'>]\n"
     ]
    },
    {
     "name": "stdout",
     "output_type": "stream",
     "text": [
      "Validation accuracy increased (0.000000 --> 0.835294).  Saving model ...\n",
      "Current Epoch: 1\n",
      "Result of the Loss function for training set: 0.593\n",
      "Result of the Accuracy metric for the training set: 0.765\n",
      "Result of the Loss function for validation set: 0.473\n",
      "Result of the Precision metric for the validation calculation: 0.835\n"
     ]
    },
    {
     "name": "stderr",
     "output_type": "stream",
     "text": [
      "Epoch 2/150:   0%|          | 0/2429 [04:20<?, ?it/s<class 'dict'>]\n",
      "Epoch 2/150:   0%|          | 0/51 [00:03<?, ?it/s<class 'dict'>]\n"
     ]
    },
    {
     "name": "stdout",
     "output_type": "stream",
     "text": [
      "Validation accuracy increased (0.835294 --> 0.890196).  Saving model ...\n",
      "Current Epoch: 2\n",
      "Result of the Loss function for training set: 0.370\n",
      "Result of the Accuracy metric for the training set: 0.855\n",
      "Result of the Loss function for validation set: 0.351\n",
      "Result of the Precision metric for the validation calculation: 0.890\n"
     ]
    },
    {
     "name": "stderr",
     "output_type": "stream",
     "text": [
      "Epoch 3/150:   0%|          | 0/2429 [04:20<?, ?it/s<class 'dict'>]\n",
      "Epoch 3/150:   0%|          | 0/51 [00:03<?, ?it/s<class 'dict'>]\n"
     ]
    },
    {
     "name": "stdout",
     "output_type": "stream",
     "text": [
      "EarlyStopping counter: 1 out of 30\n",
      "Current Epoch: 3\n",
      "Result of the Loss function for training set: 0.312\n",
      "Result of the Accuracy metric for the training set: 0.880\n",
      "Result of the Loss function for validation set: 0.400\n",
      "Result of the Precision metric for the validation calculation: 0.845\n"
     ]
    },
    {
     "name": "stderr",
     "output_type": "stream",
     "text": [
      "Epoch 4/150:   0%|          | 0/2429 [04:20<?, ?it/s<class 'dict'>]\n",
      "Epoch 4/150:   0%|          | 0/51 [00:03<?, ?it/s<class 'dict'>]\n"
     ]
    },
    {
     "name": "stdout",
     "output_type": "stream",
     "text": [
      "Current Epoch: 4\n",
      "Result of the Loss function for training set: 0.255\n",
      "Result of the Accuracy metric for the training set: 0.903\n",
      "Result of the Loss function for validation set: 0.345\n",
      "Result of the Precision metric for the validation calculation: 0.884\n"
     ]
    },
    {
     "name": "stderr",
     "output_type": "stream",
     "text": [
      "Epoch 5/150:   0%|          | 0/2429 [04:20<?, ?it/s<class 'dict'>]\n",
      "Epoch 5/150:   0%|          | 0/51 [00:02<?, ?it/s<class 'dict'>]\n"
     ]
    },
    {
     "name": "stdout",
     "output_type": "stream",
     "text": [
      "Validation accuracy increased (0.890196 --> 0.900000).  Saving model ...\n",
      "Current Epoch: 5\n",
      "Result of the Loss function for training set: 0.216\n",
      "Result of the Accuracy metric for the training set: 0.916\n",
      "Result of the Loss function for validation set: 0.314\n",
      "Result of the Precision metric for the validation calculation: 0.900\n"
     ]
    },
    {
     "name": "stderr",
     "output_type": "stream",
     "text": [
      "Epoch 6/150:   0%|          | 0/2429 [04:20<?, ?it/s<class 'dict'>]\n",
      "Epoch 6/150:   0%|          | 0/51 [00:02<?, ?it/s<class 'dict'>]\n"
     ]
    },
    {
     "name": "stdout",
     "output_type": "stream",
     "text": [
      "EarlyStopping counter: 1 out of 30\n",
      "Current Epoch: 6\n",
      "Result of the Loss function for training set: 0.185\n",
      "Result of the Accuracy metric for the training set: 0.931\n",
      "Result of the Loss function for validation set: 0.406\n",
      "Result of the Precision metric for the validation calculation: 0.896\n"
     ]
    },
    {
     "name": "stderr",
     "output_type": "stream",
     "text": [
      "Epoch 7/150:   0%|          | 0/2429 [04:20<?, ?it/s<class 'dict'>]\n",
      "Epoch 7/150:   0%|          | 0/51 [00:03<?, ?it/s<class 'dict'>]\n"
     ]
    },
    {
     "name": "stdout",
     "output_type": "stream",
     "text": [
      "EarlyStopping counter: 2 out of 30\n",
      "Current Epoch: 7\n",
      "Result of the Loss function for training set: 0.160\n",
      "Result of the Accuracy metric for the training set: 0.939\n",
      "Result of the Loss function for validation set: 0.404\n",
      "Result of the Precision metric for the validation calculation: 0.884\n"
     ]
    },
    {
     "name": "stderr",
     "output_type": "stream",
     "text": [
      "Epoch 8/150:   0%|          | 0/2429 [04:20<?, ?it/s<class 'dict'>]\n",
      "Epoch 8/150:   0%|          | 0/51 [00:03<?, ?it/s<class 'dict'>]\n"
     ]
    },
    {
     "name": "stdout",
     "output_type": "stream",
     "text": [
      "EarlyStopping counter: 3 out of 30\n",
      "Current Epoch: 8\n",
      "Result of the Loss function for training set: 0.137\n",
      "Result of the Accuracy metric for the training set: 0.948\n",
      "Result of the Loss function for validation set: 0.402\n",
      "Result of the Precision metric for the validation calculation: 0.896\n"
     ]
    },
    {
     "name": "stderr",
     "output_type": "stream",
     "text": [
      "Epoch 9/150:   0%|          | 0/2429 [04:20<?, ?it/s<class 'dict'>]\n",
      "Epoch 9/150:   0%|          | 0/51 [00:02<?, ?it/s<class 'dict'>]\n"
     ]
    },
    {
     "name": "stdout",
     "output_type": "stream",
     "text": [
      "EarlyStopping counter: 4 out of 30\n",
      "Validation accuracy increased (0.900000 --> 0.900000).  Saving model ...\n",
      "Current Epoch: 9\n",
      "Result of the Loss function for training set: 0.118\n",
      "Result of the Accuracy metric for the training set: 0.956\n",
      "Result of the Loss function for validation set: 0.361\n",
      "Result of the Precision metric for the validation calculation: 0.900\n"
     ]
    },
    {
     "name": "stderr",
     "output_type": "stream",
     "text": [
      "Epoch 10/150:   0%|          | 0/2429 [04:20<?, ?it/s<class 'dict'>]\n",
      "Epoch 10/150:   0%|          | 0/51 [00:02<?, ?it/s<class 'dict'>]\n"
     ]
    },
    {
     "name": "stdout",
     "output_type": "stream",
     "text": [
      "EarlyStopping counter: 5 out of 30\n",
      "Current Epoch: 10\n",
      "Result of the Loss function for training set: 0.104\n",
      "Result of the Accuracy metric for the training set: 0.962\n",
      "Result of the Loss function for validation set: 0.590\n",
      "Result of the Precision metric for the validation calculation: 0.865\n"
     ]
    },
    {
     "name": "stderr",
     "output_type": "stream",
     "text": [
      "Epoch 11/150:   0%|          | 0/2429 [04:20<?, ?it/s<class 'dict'>]\n",
      "Epoch 11/150:   0%|          | 0/51 [00:02<?, ?it/s<class 'dict'>]\n"
     ]
    },
    {
     "name": "stdout",
     "output_type": "stream",
     "text": [
      "EarlyStopping counter: 6 out of 30\n",
      "Validation accuracy increased (0.900000 --> 0.907843).  Saving model ...\n",
      "Current Epoch: 11\n",
      "Result of the Loss function for training set: 0.097\n",
      "Result of the Accuracy metric for the training set: 0.963\n",
      "Result of the Loss function for validation set: 0.394\n",
      "Result of the Precision metric for the validation calculation: 0.908\n"
     ]
    },
    {
     "name": "stderr",
     "output_type": "stream",
     "text": [
      "Epoch 12/150:   0%|          | 0/2429 [04:20<?, ?it/s<class 'dict'>]\n",
      "Epoch 12/150:   0%|          | 0/51 [00:02<?, ?it/s<class 'dict'>]\n"
     ]
    },
    {
     "name": "stdout",
     "output_type": "stream",
     "text": [
      "EarlyStopping counter: 7 out of 30\n",
      "Current Epoch: 12\n",
      "Result of the Loss function for training set: 0.079\n",
      "Result of the Accuracy metric for the training set: 0.971\n",
      "Result of the Loss function for validation set: 0.427\n",
      "Result of the Precision metric for the validation calculation: 0.892\n"
     ]
    },
    {
     "name": "stderr",
     "output_type": "stream",
     "text": [
      "Epoch 13/150:   0%|          | 0/2429 [04:20<?, ?it/s<class 'dict'>]\n",
      "Epoch 13/150:   0%|          | 0/51 [00:02<?, ?it/s<class 'dict'>]\n"
     ]
    },
    {
     "name": "stdout",
     "output_type": "stream",
     "text": [
      "EarlyStopping counter: 8 out of 30\n",
      "Current Epoch: 13\n",
      "Result of the Loss function for training set: 0.071\n",
      "Result of the Accuracy metric for the training set: 0.974\n",
      "Result of the Loss function for validation set: 0.414\n",
      "Result of the Precision metric for the validation calculation: 0.896\n"
     ]
    },
    {
     "name": "stderr",
     "output_type": "stream",
     "text": [
      "Epoch 14/150:   0%|          | 0/2429 [04:20<?, ?it/s<class 'dict'>]\n",
      "Epoch 14/150:   0%|          | 0/51 [00:02<?, ?it/s<class 'dict'>]\n"
     ]
    },
    {
     "name": "stdout",
     "output_type": "stream",
     "text": [
      "EarlyStopping counter: 9 out of 30\n",
      "Current Epoch: 14\n",
      "Result of the Loss function for training set: 0.065\n",
      "Result of the Accuracy metric for the training set: 0.976\n",
      "Result of the Loss function for validation set: 0.410\n",
      "Result of the Precision metric for the validation calculation: 0.906\n"
     ]
    },
    {
     "name": "stderr",
     "output_type": "stream",
     "text": [
      "Epoch 15/150:   0%|          | 0/2429 [04:20<?, ?it/s<class 'dict'>]\n",
      "Epoch 15/150:   0%|          | 0/51 [00:03<?, ?it/s<class 'dict'>]\n"
     ]
    },
    {
     "name": "stdout",
     "output_type": "stream",
     "text": [
      "EarlyStopping counter: 10 out of 30\n",
      "Current Epoch: 15\n",
      "Result of the Loss function for training set: 0.055\n",
      "Result of the Accuracy metric for the training set: 0.980\n",
      "Result of the Loss function for validation set: 0.471\n",
      "Result of the Precision metric for the validation calculation: 0.884\n"
     ]
    },
    {
     "name": "stderr",
     "output_type": "stream",
     "text": [
      "Epoch 16/150:   0%|          | 0/2429 [04:19<?, ?it/s<class 'dict'>]\n",
      "Epoch 16/150:   0%|          | 0/51 [00:02<?, ?it/s<class 'dict'>]\n"
     ]
    },
    {
     "name": "stdout",
     "output_type": "stream",
     "text": [
      "EarlyStopping counter: 11 out of 30\n",
      "Current Epoch: 16\n",
      "Result of the Loss function for training set: 0.053\n",
      "Result of the Accuracy metric for the training set: 0.980\n",
      "Result of the Loss function for validation set: 0.476\n",
      "Result of the Precision metric for the validation calculation: 0.886\n"
     ]
    },
    {
     "name": "stderr",
     "output_type": "stream",
     "text": [
      "Epoch 17/150:   0%|          | 0/2429 [04:20<?, ?it/s<class 'dict'>]\n",
      "Epoch 17/150:   0%|          | 0/51 [00:02<?, ?it/s<class 'dict'>]\n"
     ]
    },
    {
     "name": "stdout",
     "output_type": "stream",
     "text": [
      "EarlyStopping counter: 12 out of 30\n",
      "Current Epoch: 17\n",
      "Result of the Loss function for training set: 0.049\n",
      "Result of the Accuracy metric for the training set: 0.983\n",
      "Result of the Loss function for validation set: 0.499\n",
      "Result of the Precision metric for the validation calculation: 0.896\n"
     ]
    },
    {
     "name": "stderr",
     "output_type": "stream",
     "text": [
      "Epoch 18/150:   0%|          | 0/2429 [04:20<?, ?it/s<class 'dict'>]\n",
      "Epoch 18/150:   0%|          | 0/51 [00:02<?, ?it/s<class 'dict'>]\n"
     ]
    },
    {
     "name": "stdout",
     "output_type": "stream",
     "text": [
      "EarlyStopping counter: 13 out of 30\n",
      "Current Epoch: 18\n",
      "Result of the Loss function for training set: 0.036\n",
      "Result of the Accuracy metric for the training set: 0.988\n",
      "Result of the Loss function for validation set: 0.552\n",
      "Result of the Precision metric for the validation calculation: 0.896\n"
     ]
    },
    {
     "name": "stderr",
     "output_type": "stream",
     "text": [
      "Epoch 19/150:   0%|          | 0/2429 [04:20<?, ?it/s<class 'dict'>]\n",
      "Epoch 19/150:   0%|          | 0/51 [00:03<?, ?it/s<class 'dict'>]\n"
     ]
    },
    {
     "name": "stdout",
     "output_type": "stream",
     "text": [
      "EarlyStopping counter: 14 out of 30\n",
      "Current Epoch: 19\n",
      "Result of the Loss function for training set: 0.037\n",
      "Result of the Accuracy metric for the training set: 0.988\n",
      "Result of the Loss function for validation set: 0.525\n",
      "Result of the Precision metric for the validation calculation: 0.888\n"
     ]
    },
    {
     "name": "stderr",
     "output_type": "stream",
     "text": [
      "Epoch 20/150:   0%|          | 0/2429 [04:20<?, ?it/s<class 'dict'>]\n",
      "Epoch 20/150:   0%|          | 0/51 [00:02<?, ?it/s<class 'dict'>]\n"
     ]
    },
    {
     "name": "stdout",
     "output_type": "stream",
     "text": [
      "EarlyStopping counter: 15 out of 30\n",
      "Current Epoch: 20\n",
      "Result of the Loss function for training set: 0.030\n",
      "Result of the Accuracy metric for the training set: 0.989\n",
      "Result of the Loss function for validation set: 0.516\n",
      "Result of the Precision metric for the validation calculation: 0.886\n"
     ]
    },
    {
     "name": "stderr",
     "output_type": "stream",
     "text": [
      "Epoch 21/150:   0%|          | 0/2429 [04:20<?, ?it/s<class 'dict'>]\n",
      "Epoch 21/150:   0%|          | 0/51 [00:02<?, ?it/s<class 'dict'>]\n"
     ]
    },
    {
     "name": "stdout",
     "output_type": "stream",
     "text": [
      "EarlyStopping counter: 16 out of 30\n",
      "Current Epoch: 21\n",
      "Result of the Loss function for training set: 0.031\n",
      "Result of the Accuracy metric for the training set: 0.989\n",
      "Result of the Loss function for validation set: 0.437\n",
      "Result of the Precision metric for the validation calculation: 0.894\n"
     ]
    },
    {
     "name": "stderr",
     "output_type": "stream",
     "text": [
      "Epoch 22/150:   0%|          | 0/2429 [04:20<?, ?it/s<class 'dict'>]\n",
      "Epoch 22/150:   0%|          | 0/51 [00:02<?, ?it/s<class 'dict'>]\n"
     ]
    },
    {
     "name": "stdout",
     "output_type": "stream",
     "text": [
      "EarlyStopping counter: 17 out of 30\n",
      "Current Epoch: 22\n",
      "Result of the Loss function for training set: 0.023\n",
      "Result of the Accuracy metric for the training set: 0.992\n",
      "Result of the Loss function for validation set: 0.554\n",
      "Result of the Precision metric for the validation calculation: 0.894\n"
     ]
    },
    {
     "name": "stderr",
     "output_type": "stream",
     "text": [
      "Epoch 23/150:   0%|          | 0/2429 [04:19<?, ?it/s<class 'dict'>]\n",
      "Epoch 23/150:   0%|          | 0/51 [00:02<?, ?it/s<class 'dict'>]\n"
     ]
    },
    {
     "name": "stdout",
     "output_type": "stream",
     "text": [
      "EarlyStopping counter: 18 out of 30\n",
      "Current Epoch: 23\n",
      "Result of the Loss function for training set: 0.022\n",
      "Result of the Accuracy metric for the training set: 0.993\n",
      "Result of the Loss function for validation set: 0.503\n",
      "Result of the Precision metric for the validation calculation: 0.888\n"
     ]
    },
    {
     "name": "stderr",
     "output_type": "stream",
     "text": [
      "Epoch 24/150:   0%|          | 0/2429 [04:20<?, ?it/s<class 'dict'>]\n",
      "Epoch 24/150:   0%|          | 0/51 [00:03<?, ?it/s<class 'dict'>]\n"
     ]
    },
    {
     "name": "stdout",
     "output_type": "stream",
     "text": [
      "EarlyStopping counter: 19 out of 30\n",
      "Current Epoch: 24\n",
      "Result of the Loss function for training set: 0.020\n",
      "Result of the Accuracy metric for the training set: 0.993\n",
      "Result of the Loss function for validation set: 0.536\n",
      "Result of the Precision metric for the validation calculation: 0.896\n"
     ]
    },
    {
     "name": "stderr",
     "output_type": "stream",
     "text": [
      "Epoch 25/150:   0%|          | 0/2429 [04:20<?, ?it/s<class 'dict'>]\n",
      "Epoch 25/150:   0%|          | 0/51 [00:03<?, ?it/s<class 'dict'>]\n"
     ]
    },
    {
     "name": "stdout",
     "output_type": "stream",
     "text": [
      "EarlyStopping counter: 20 out of 30\n",
      "Current Epoch: 25\n",
      "Result of the Loss function for training set: 0.021\n",
      "Result of the Accuracy metric for the training set: 0.993\n",
      "Result of the Loss function for validation set: 0.548\n",
      "Result of the Precision metric for the validation calculation: 0.892\n"
     ]
    },
    {
     "name": "stderr",
     "output_type": "stream",
     "text": [
      "Epoch 26/150:   0%|          | 0/2429 [04:20<?, ?it/s<class 'dict'>]\n",
      "Epoch 26/150:   0%|          | 0/51 [00:03<?, ?it/s<class 'dict'>]\n"
     ]
    },
    {
     "name": "stdout",
     "output_type": "stream",
     "text": [
      "EarlyStopping counter: 21 out of 30\n",
      "Current Epoch: 26\n",
      "Result of the Loss function for training set: 0.013\n",
      "Result of the Accuracy metric for the training set: 0.996\n",
      "Result of the Loss function for validation set: 0.551\n",
      "Result of the Precision metric for the validation calculation: 0.896\n"
     ]
    },
    {
     "name": "stderr",
     "output_type": "stream",
     "text": [
      "Epoch 27/150:   0%|          | 0/2429 [04:19<?, ?it/s<class 'dict'>]\n",
      "Epoch 27/150:   0%|          | 0/51 [00:03<?, ?it/s<class 'dict'>]\n"
     ]
    },
    {
     "name": "stdout",
     "output_type": "stream",
     "text": [
      "EarlyStopping counter: 22 out of 30\n",
      "Current Epoch: 27\n",
      "Result of the Loss function for training set: 0.016\n",
      "Result of the Accuracy metric for the training set: 0.995\n",
      "Result of the Loss function for validation set: 0.548\n",
      "Result of the Precision metric for the validation calculation: 0.902\n"
     ]
    },
    {
     "name": "stderr",
     "output_type": "stream",
     "text": [
      "Epoch 28/150:   0%|          | 0/2429 [04:20<?, ?it/s<class 'dict'>]\n",
      "Epoch 28/150:   0%|          | 0/51 [00:02<?, ?it/s<class 'dict'>]\n"
     ]
    },
    {
     "name": "stdout",
     "output_type": "stream",
     "text": [
      "EarlyStopping counter: 23 out of 30\n",
      "Current Epoch: 28\n",
      "Result of the Loss function for training set: 0.014\n",
      "Result of the Accuracy metric for the training set: 0.996\n",
      "Result of the Loss function for validation set: 0.556\n",
      "Result of the Precision metric for the validation calculation: 0.890\n"
     ]
    },
    {
     "name": "stderr",
     "output_type": "stream",
     "text": [
      "Epoch 29/150:   0%|          | 0/2429 [04:20<?, ?it/s<class 'dict'>]\n",
      "Epoch 29/150:   0%|          | 0/51 [00:02<?, ?it/s<class 'dict'>]\n"
     ]
    },
    {
     "name": "stdout",
     "output_type": "stream",
     "text": [
      "EarlyStopping counter: 24 out of 30\n",
      "Current Epoch: 29\n",
      "Result of the Loss function for training set: 0.010\n",
      "Result of the Accuracy metric for the training set: 0.997\n",
      "Result of the Loss function for validation set: 0.590\n",
      "Result of the Precision metric for the validation calculation: 0.896\n"
     ]
    },
    {
     "name": "stderr",
     "output_type": "stream",
     "text": [
      "Epoch 30/150:   0%|          | 0/2429 [04:19<?, ?it/s<class 'dict'>]\n",
      "Epoch 30/150:   0%|          | 0/51 [00:03<?, ?it/s<class 'dict'>]\n"
     ]
    },
    {
     "name": "stdout",
     "output_type": "stream",
     "text": [
      "EarlyStopping counter: 25 out of 30\n",
      "Current Epoch: 30\n",
      "Result of the Loss function for training set: 0.010\n",
      "Result of the Accuracy metric for the training set: 0.997\n",
      "Result of the Loss function for validation set: 0.567\n",
      "Result of the Precision metric for the validation calculation: 0.896\n"
     ]
    },
    {
     "name": "stderr",
     "output_type": "stream",
     "text": [
      "Epoch 31/150:   0%|          | 0/2429 [04:19<?, ?it/s<class 'dict'>]\n",
      "Epoch 31/150:   0%|          | 0/51 [00:02<?, ?it/s<class 'dict'>]\n"
     ]
    },
    {
     "name": "stdout",
     "output_type": "stream",
     "text": [
      "EarlyStopping counter: 26 out of 30\n",
      "Current Epoch: 31\n",
      "Result of the Loss function for training set: 0.012\n",
      "Result of the Accuracy metric for the training set: 0.996\n",
      "Result of the Loss function for validation set: 0.566\n",
      "Result of the Precision metric for the validation calculation: 0.888\n"
     ]
    },
    {
     "name": "stderr",
     "output_type": "stream",
     "text": [
      "Epoch 32/150:   0%|          | 0/2429 [04:20<?, ?it/s<class 'dict'>]\n",
      "Epoch 32/150:   0%|          | 0/51 [00:02<?, ?it/s<class 'dict'>]\n"
     ]
    },
    {
     "name": "stdout",
     "output_type": "stream",
     "text": [
      "EarlyStopping counter: 27 out of 30\n",
      "Current Epoch: 32\n",
      "Result of the Loss function for training set: 0.007\n",
      "Result of the Accuracy metric for the training set: 0.998\n",
      "Result of the Loss function for validation set: 0.575\n",
      "Result of the Precision metric for the validation calculation: 0.871\n"
     ]
    },
    {
     "name": "stderr",
     "output_type": "stream",
     "text": [
      "Epoch 33/150:   0%|          | 0/2429 [04:19<?, ?it/s<class 'dict'>]\n",
      "Epoch 33/150:   0%|          | 0/51 [00:03<?, ?it/s<class 'dict'>]\n"
     ]
    },
    {
     "name": "stdout",
     "output_type": "stream",
     "text": [
      "EarlyStopping counter: 28 out of 30\n",
      "Current Epoch: 33\n",
      "Result of the Loss function for training set: 0.007\n",
      "Result of the Accuracy metric for the training set: 0.998\n",
      "Result of the Loss function for validation set: 0.516\n",
      "Result of the Precision metric for the validation calculation: 0.904\n"
     ]
    },
    {
     "name": "stderr",
     "output_type": "stream",
     "text": [
      "Epoch 34/150:   0%|          | 0/2429 [04:19<?, ?it/s<class 'dict'>]\n",
      "Epoch 34/150:   0%|          | 0/51 [00:03<?, ?it/s<class 'dict'>]\n"
     ]
    },
    {
     "name": "stdout",
     "output_type": "stream",
     "text": [
      "EarlyStopping counter: 29 out of 30\n",
      "Current Epoch: 34\n",
      "Result of the Loss function for training set: 0.006\n",
      "Result of the Accuracy metric for the training set: 0.998\n",
      "Result of the Loss function for validation set: 0.563\n",
      "Result of the Precision metric for the validation calculation: 0.898\n"
     ]
    },
    {
     "name": "stderr",
     "output_type": "stream",
     "text": [
      "Epoch 35/150:   0%|          | 0/2429 [04:20<?, ?it/s<class 'dict'>]\n",
      "Epoch 35/150:   0%|          | 0/51 [00:02<?, ?it/s<class 'dict'>]"
     ]
    },
    {
     "name": "stdout",
     "output_type": "stream",
     "text": [
      "EarlyStopping counter: 30 out of 30\n",
      "Early stopping\n",
      "Transfer learning Training Completed\n"
     ]
    },
    {
     "name": "stderr",
     "output_type": "stream",
     "text": [
      "\n"
     ]
    }
   ],
   "source": [
    "delta = 0.001\n",
    "patience = 30\n",
    "early_stopping = EarlyStopping(patience, verbose=True,delta=delta)\n",
    "t_accuracy = []\n",
    "v_accuracy = []\n",
    "t_losses = []\n",
    "v_losses = []\n",
    "Freeze_Train =True\n",
    "if True:\n",
    "    \n",
    "        # ----------------------------------------------------#\n",
    "        #   冻结阶段训练参数\n",
    "        #   此时模型的主干被冻结了，特征提取网络不发生改变\n",
    "        #   占用的显存较小，仅对网络进行微调\n",
    "        # ----------------------------------------------------#\n",
    "        # lr = 1e-3\n",
    "    lr = 1e-4\n",
    "    Batch_size = 16\n",
    "    Init_Epoch = 0\n",
    "    Freeze_Epoch = 150\n",
    "        \n",
    "\n",
    "    epoch_step = len(train_dataset) // Batch_size\n",
    "    epoch_step_val = len(test_dataset) // Batch_size\n",
    "\n",
    "    if epoch_step == 0 or epoch_step_val == 0:\n",
    "        raise ValueError(\"数据集过小，无法进行训练，请扩充数据集。\")\n",
    "\n",
    "    optimizer = optim.Adam(model_train.parameters(), lr, weight_decay=5e-4)\n",
    "    lr_scheduler = optim.lr_scheduler.StepLR(optimizer, step_size=1, gamma=0.94)\n",
    "\n",
    "        \n",
    "        # ------------------------------------#\n",
    "        #   冻结一定部分训练\n",
    "        # ------------------------------------#\n",
    "    if Freeze_Train:\n",
    "        model.unfreeze_backbone()\n",
    "\n",
    "    for epoch in range(Init_Epoch, Freeze_Epoch):\n",
    "        train_acc,train_loss,total_val_acc,total_val_loss =fit_one_epoch(model_train, model, optimizer, epoch, epoch_step, epoch_step_val, train_data_loader, validation_data_loader,\n",
    "                          Freeze_Epoch, device, class_weights)\n",
    "        \n",
    "        lr_scheduler.step()\n",
    "        early_stopping(total_val_loss,total_val_acc, model)\n",
    "        if early_stopping.early_stop:\n",
    "            print(\"Early stopping\")\n",
    "            break\n",
    "  \n",
    "        print('Current Epoch: %d' %(epoch+1))\n",
    "        print('Result of the Loss function for training set: %.3f' %(train_loss))\n",
    "        print('Result of the Accuracy metric for the training set: %.3f' %(train_acc))\n",
    "        print('Result of the Loss function for validation set: %.3f' %(total_val_loss))  \n",
    "        print('Result of the Precision metric for the validation calculation: %.3f' %(total_val_acc))\n",
    "        \n",
    "        # put in percentage\n",
    "\n",
    "        t_losses.append(train_loss)\n",
    "        v_losses.append(total_val_loss)\n",
    "        t_accuracy.append(train_acc)\n",
    "        v_accuracy.append(total_val_acc)\n",
    "print('Transfer learning Training Completed')\n",
    "    "
   ]
  },
  {
   "cell_type": "code",
   "execution_count": 82,
   "metadata": {},
   "outputs": [
    {
     "data": {
      "image/png": "[encoded data removed]",
      "text/plain": [
       "<Figure size 720x1080 with 1 Axes>"
      ]
     },
     "metadata": {
      "needs_background": "light"
     },
     "output_type": "display_data"
    },
    {
     "data": {
      "text/plain": [
       "<Figure size 432x288 with 0 Axes>"
      ]
     },
     "metadata": {},
     "output_type": "display_data"
    },
    {
     "data": {
      "text/plain": [
       "<Figure size 432x288 with 0 Axes>"
      ]
     },
     "execution_count": 82,
     "metadata": {},
     "output_type": "execute_result"
    },
    {
     "data": {
      "image/png": "[encoded data removed]",
      "text/plain": [
       "<Figure size 720x1080 with 1 Axes>"
      ]
     },
     "metadata": {
      "needs_background": "light"
     },
     "output_type": "display_data"
    },
    {
     "data": {
      "text/plain": [
       "<Figure size 432x288 with 0 Axes>"
      ]
     },
     "metadata": {},
     "output_type": "display_data"
    }
   ],
   "source": [
    "epoch = range(1, len(v_accuracy)+1)\n",
    "fig = plt.figure(figsize=(10, 15))\n",
    "plt.subplot(2,1,2)\n",
    "plt.plot(epoch, t_losses, label='Training loss')\n",
    "plt.plot(epoch, v_losses, label='Validation loss')\n",
    "plt.title('Training and Validation Loss')\n",
    "plt.xlabel('Epochs')\n",
    "plt.legend()\n",
    "plt.figure()\n",
    "plt.show()\n",
    "\n",
    "fig = plt.figure(figsize=(10, 15))\n",
    "plt.subplot(2,1,2)\n",
    "plt.plot(epoch, t_accuracy, label='Training accuracy')\n",
    "plt.plot(epoch, v_accuracy, label='Validation accuracy')\n",
    "plt.title('Training and Validation Accuracy')\n",
    "plt.xlabel('Epochs')\n",
    "plt.legend()\n",
    "plt.figure()"
   ]
  },
  {
   "cell_type": "code",
   "execution_count": 83,
   "metadata": {},
   "outputs": [],
   "source": [
    "np.save(\"./experiment/base/t_acc_base.npy\", t_accuracy) \n",
    "np.save(\"./experiment/base/t_loss_base.npy\", t_losses)\n",
    "np.save(\"./experiment/base/v_loss_base.npy\", v_losses) \n",
    "np.save(\"./experiment/base/v_acc_base.npy\", v_accuracy)"
   ]
  },
  {
   "cell_type": "code",
   "execution_count": 51,
   "metadata": {},
   "outputs": [
    {
     "data": {
      "text/plain": [
       "'./experiment/casa/transfer/convcasa_transfer_15_3.pt'"
      ]
     },
     "execution_count": 51,
     "metadata": {},
     "output_type": "execute_result"
    }
   ],
   "source": [
    "import shutil\n",
    "shutil.copy(\"./checkpoint.pt\",'./experiment/base/conv_base.pt')"
   ]
  },
  {
   "cell_type": "code",
   "execution_count": 93,
   "metadata": {},
   "outputs": [
    {
     "name": "stdout",
     "output_type": "stream",
     "text": [
      "<built-in method size of Tensor object at 0x7fe033828a00>\n",
      "<built-in method size of Tensor object at 0x7fe033806880>\n",
      "<built-in method size of Tensor object at 0x7fe0338b0580>\n",
      "<built-in method size of Tensor object at 0x7fe0338268c0>\n",
      "<built-in method size of Tensor object at 0x7fe12073ee80>\n",
      "<built-in method size of Tensor object at 0x7fe033806880>\n",
      "<built-in method size of Tensor object at 0x7fe0337ed7c0>\n",
      "<built-in method size of Tensor object at 0x7fe033829a00>\n",
      "<built-in method size of Tensor object at 0x7fe12073ee80>\n",
      "<built-in method size of Tensor object at 0x7fe0337ed7c0>\n",
      "<built-in method size of Tensor object at 0x7fe033826980>\n",
      "<built-in method size of Tensor object at 0x7fe033828280>\n",
      "<built-in method size of Tensor object at 0x7fe033828a00>\n",
      "<built-in method size of Tensor object at 0x7fe03382c500>\n",
      "<built-in method size of Tensor object at 0x7fe12072bac0>\n",
      "<built-in method size of Tensor object at 0x7fe0337ed7c0>\n",
      "<built-in method size of Tensor object at 0x7fe03382cfc0>\n",
      "<built-in method size of Tensor object at 0x7fe0338269c0>\n",
      "<built-in method size of Tensor object at 0x7fe033828280>\n",
      "<built-in method size of Tensor object at 0x7fe033828a00>\n",
      "<built-in method size of Tensor object at 0x7fe0338ada40>\n",
      "<built-in method size of Tensor object at 0x7fe03382c140>\n",
      "<built-in method size of Tensor object at 0x7fe03382d400>\n",
      "<built-in method size of Tensor object at 0x7fe033829fc0>\n",
      "<built-in method size of Tensor object at 0x7fe03382c140>\n",
      "<built-in method size of Tensor object at 0x7fe0337ed7c0>\n",
      "<built-in method size of Tensor object at 0x7fe03382d0c0>\n",
      "<built-in method size of Tensor object at 0x7fe0338139c0>\n",
      "<built-in method size of Tensor object at 0x7fe12071da80>\n",
      "<built-in method size of Tensor object at 0x7fe0338b0580>\n",
      "<built-in method size of Tensor object at 0x7fe033826d00>\n",
      "<built-in method size of Tensor object at 0x7fe03382c140>\n",
      "<built-in method size of Tensor object at 0x7fe03382d940>\n",
      "<built-in method size of Tensor object at 0x7fe0338269c0>\n",
      "<built-in method size of Tensor object at 0x7fe033830280>\n",
      "<built-in method size of Tensor object at 0x7fe033829fc0>\n",
      "<built-in method size of Tensor object at 0x7fe0337ed8c0>\n",
      "<built-in method size of Tensor object at 0x7fe0338139c0>\n",
      "<built-in method size of Tensor object at 0x7fe033828a00>\n",
      "<built-in method size of Tensor object at 0x7fe12071d100>\n",
      "<built-in method size of Tensor object at 0x7fe03382d940>\n",
      "<built-in method size of Tensor object at 0x7fe033830fc0>\n",
      "<built-in method size of Tensor object at 0x7fe033829280>\n",
      "<built-in method size of Tensor object at 0x7fe033829fc0>\n",
      "<built-in method size of Tensor object at 0x7fe033830440>\n",
      "<built-in method size of Tensor object at 0x7fe033830980>\n",
      "<built-in method size of Tensor object at 0x7fe0337ed8c0>\n",
      "<built-in method size of Tensor object at 0x7fe03382dbc0>\n",
      "<built-in method size of Tensor object at 0x7fe033828280>\n",
      "<built-in method size of Tensor object at 0x7fe033830280>\n",
      "<built-in method size of Tensor object at 0x7fe12071da80>\n",
      "<built-in method size of Tensor object at 0x7fe0337ed5c0>\n",
      "<built-in method size of Tensor object at 0x7fe033830880>\n",
      "<built-in method size of Tensor object at 0x7fe0338139c0>\n",
      "<built-in method size of Tensor object at 0x7fe033830c00>\n",
      "<built-in method size of Tensor object at 0x7fe03382c140>\n",
      "<built-in method size of Tensor object at 0x7fe033829280>\n",
      "<built-in method size of Tensor object at 0x7fe03382cfc0>\n",
      "<built-in method size of Tensor object at 0x7fe03382d940>\n",
      "<built-in method size of Tensor object at 0x7fe033830ec0>\n",
      "<built-in method size of Tensor object at 0x7fe0337ed8c0>\n",
      "<built-in method size of Tensor object at 0x7fe03382dbc0>\n",
      "<built-in method size of Tensor object at 0x7fe033829fc0>\n",
      "<built-in method size of Tensor object at 0x7fe12071d240>\n",
      "<built-in method size of Tensor object at 0x7fe033829fc0>\n",
      "<built-in method size of Tensor object at 0x7fe033828a00>\n",
      "<built-in method size of Tensor object at 0x7fe0337f0dc0>\n",
      "<built-in method size of Tensor object at 0x7fe033830c80>\n",
      "<built-in method size of Tensor object at 0x7fe03382da40>\n",
      "<built-in method size of Tensor object at 0x7fe0338b0580>\n",
      "<built-in method size of Tensor object at 0x7fe12071d240>\n",
      "<built-in method size of Tensor object at 0x7fe033830880>\n",
      "<built-in method size of Tensor object at 0x7fe0337ed7c0>\n",
      "<built-in method size of Tensor object at 0x7fe0337ed8c0>\n",
      "<built-in method size of Tensor object at 0x7fe12071d100>\n",
      "<built-in method size of Tensor object at 0x7fe03382c140>\n",
      "<built-in method size of Tensor object at 0x7fe0338b0580>\n",
      "<built-in method size of Tensor object at 0x7fe12071d280>\n",
      "<built-in method size of Tensor object at 0x7fe033830c80>\n",
      "<built-in method size of Tensor object at 0x7fe033828280>\n",
      "<built-in method size of Tensor object at 0x7fe033830ec0>\n",
      "<built-in method size of Tensor object at 0x7fe033806880>\n",
      "<built-in method size of Tensor object at 0x7fe12071dc00>\n"
     ]
    }
   ],
   "source": [
    "#From Last epoch\n",
    "model.eval()\n",
    "y_label = []\n",
    "y_predict = []\n",
    "\n",
    "with torch.no_grad():\n",
    "    for i,(images,labels) in enumerate(validation_data_loader):\n",
    "        print(images.size)\n",
    "        n = images.size(0)\n",
    "        images = images.to(device)\n",
    "        output = model(images)\n",
    "        pred = torch.argmax(output, dim=1)\n",
    "        y_label.extend(labels.cpu().numpy())\n",
    "        y_predict.extend(pred.cpu().numpy())\n",
    "plot_labels = ['akiec', 'bcc', 'bkl', 'df', 'nv', 'vasc','mel']"
   ]
  },
  {
   "cell_type": "code",
   "execution_count": 94,
   "metadata": {},
   "outputs": [
    {
     "name": "stdout",
     "output_type": "stream",
     "text": [
      "              precision    recall  f1-score   support\n",
      "\n",
      "       akiec       0.74      0.61      0.67        23\n",
      "         bcc       0.72      0.81      0.76        26\n",
      "         bkl       0.78      0.77      0.78        66\n",
      "          df       0.75      0.50      0.60         6\n",
      "          nv       0.69      0.53      0.60        34\n",
      "        vasc       0.96      0.98      0.97       663\n",
      "         mel       0.91      1.00      0.95        10\n",
      "\n",
      "    accuracy                           0.93       828\n",
      "   macro avg       0.79      0.74      0.76       828\n",
      "weighted avg       0.92      0.93      0.92       828\n",
      "\n"
     ]
    }
   ],
   "source": [
    "from sklearn.metrics import classification_report\n",
    "\n",
    "#Classification report\n",
    "report = classification_report(y_label, y_predict, target_names=plot_labels)\n",
    "print(report)"
   ]
  },
  {
   "cell_type": "code",
   "execution_count": 95,
   "metadata": {},
   "outputs": [
    {
     "name": "stdout",
     "output_type": "stream",
     "text": [
      "Precision: 0.9216146769461008\n",
      "Recall: 0.9251207729468599\n",
      "Accuracy: 0.9251207729468599\n"
     ]
    },
    {
     "ename": "AxisError",
     "evalue": "axis 1 is out of bounds for array of dimension 1",
     "output_type": "error",
     "traceback": [
      "\u001b[0;31m---------------------------------------------------------------------------\u001b[0m",
      "\u001b[0;31mAxisError\u001b[0m                                 Traceback (most recent call last)",
      "\u001b[0;32m/tmp/ipykernel_66223/2141527723.py\u001b[0m in \u001b[0;36m<module>\u001b[0;34m\u001b[0m\n\u001b[1;32m      7\u001b[0m \u001b[0mprint\u001b[0m\u001b[0;34m(\u001b[0m\u001b[0;34m\"Recall: \"\u001b[0m\u001b[0;34m+\u001b[0m \u001b[0mstr\u001b[0m\u001b[0;34m(\u001b[0m\u001b[0mrecall_score\u001b[0m\u001b[0;34m(\u001b[0m\u001b[0my_true\u001b[0m\u001b[0;34m,\u001b[0m \u001b[0my_pred\u001b[0m\u001b[0;34m,\u001b[0m \u001b[0maverage\u001b[0m\u001b[0;34m=\u001b[0m\u001b[0;34m'weighted'\u001b[0m\u001b[0;34m)\u001b[0m\u001b[0;34m)\u001b[0m\u001b[0;34m)\u001b[0m\u001b[0;34m\u001b[0m\u001b[0;34m\u001b[0m\u001b[0m\n\u001b[1;32m      8\u001b[0m \u001b[0mprint\u001b[0m\u001b[0;34m(\u001b[0m\u001b[0;34m\"Accuracy: \"\u001b[0m \u001b[0;34m+\u001b[0m \u001b[0mstr\u001b[0m\u001b[0;34m(\u001b[0m\u001b[0maccuracy_score\u001b[0m\u001b[0;34m(\u001b[0m\u001b[0my_true\u001b[0m\u001b[0;34m,\u001b[0m \u001b[0my_pred\u001b[0m\u001b[0;34m)\u001b[0m\u001b[0;34m)\u001b[0m\u001b[0;34m)\u001b[0m\u001b[0;34m\u001b[0m\u001b[0;34m\u001b[0m\u001b[0m\n\u001b[0;32m----> 9\u001b[0;31m \u001b[0mprint\u001b[0m\u001b[0;34m(\u001b[0m\u001b[0;34m\"weighted Roc score: \"\u001b[0m \u001b[0;34m+\u001b[0m \u001b[0mstr\u001b[0m\u001b[0;34m(\u001b[0m\u001b[0mroc_auc_score\u001b[0m\u001b[0;34m(\u001b[0m\u001b[0my_true\u001b[0m\u001b[0;34m,\u001b[0m\u001b[0my_pred\u001b[0m\u001b[0;34m,\u001b[0m\u001b[0mmulti_class\u001b[0m\u001b[0;34m=\u001b[0m\u001b[0;34m'ovr'\u001b[0m\u001b[0;34m,\u001b[0m\u001b[0maverage\u001b[0m\u001b[0;34m=\u001b[0m\u001b[0;34m'weighted'\u001b[0m\u001b[0;34m)\u001b[0m\u001b[0;34m)\u001b[0m\u001b[0;34m)\u001b[0m\u001b[0;34m\u001b[0m\u001b[0;34m\u001b[0m\u001b[0m\n\u001b[0m",
      "\u001b[0;32m~/miniconda3/lib/python3.8/site-packages/sklearn/metrics/_ranking.py\u001b[0m in \u001b[0;36mroc_auc_score\u001b[0;34m(y_true, y_score, average, sample_weight, max_fpr, multi_class, labels)\u001b[0m\n\u001b[1;32m    563\u001b[0m         \u001b[0;32mif\u001b[0m \u001b[0mmulti_class\u001b[0m \u001b[0;34m==\u001b[0m \u001b[0;34m\"raise\"\u001b[0m\u001b[0;34m:\u001b[0m\u001b[0;34m\u001b[0m\u001b[0;34m\u001b[0m\u001b[0m\n\u001b[1;32m    564\u001b[0m             \u001b[0;32mraise\u001b[0m \u001b[0mValueError\u001b[0m\u001b[0;34m(\u001b[0m\u001b[0;34m\"multi_class must be in ('ovo', 'ovr')\"\u001b[0m\u001b[0;34m)\u001b[0m\u001b[0;34m\u001b[0m\u001b[0;34m\u001b[0m\u001b[0m\n\u001b[0;32m--> 565\u001b[0;31m         return _multiclass_roc_auc_score(\n\u001b[0m\u001b[1;32m    566\u001b[0m             \u001b[0my_true\u001b[0m\u001b[0;34m,\u001b[0m \u001b[0my_score\u001b[0m\u001b[0;34m,\u001b[0m \u001b[0mlabels\u001b[0m\u001b[0;34m,\u001b[0m \u001b[0mmulti_class\u001b[0m\u001b[0;34m,\u001b[0m \u001b[0maverage\u001b[0m\u001b[0;34m,\u001b[0m \u001b[0msample_weight\u001b[0m\u001b[0;34m\u001b[0m\u001b[0;34m\u001b[0m\u001b[0m\n\u001b[1;32m    567\u001b[0m         )\n",
      "\u001b[0;32m~/miniconda3/lib/python3.8/site-packages/sklearn/metrics/_ranking.py\u001b[0m in \u001b[0;36m_multiclass_roc_auc_score\u001b[0;34m(y_true, y_score, labels, multi_class, average, sample_weight)\u001b[0m\n\u001b[1;32m    629\u001b[0m     \"\"\"\n\u001b[1;32m    630\u001b[0m     \u001b[0;31m# validation of the input y_score\u001b[0m\u001b[0;34m\u001b[0m\u001b[0;34m\u001b[0m\u001b[0;34m\u001b[0m\u001b[0m\n\u001b[0;32m--> 631\u001b[0;31m     \u001b[0;32mif\u001b[0m \u001b[0;32mnot\u001b[0m \u001b[0mnp\u001b[0m\u001b[0;34m.\u001b[0m\u001b[0mallclose\u001b[0m\u001b[0;34m(\u001b[0m\u001b[0;36m1\u001b[0m\u001b[0;34m,\u001b[0m \u001b[0my_score\u001b[0m\u001b[0;34m.\u001b[0m\u001b[0msum\u001b[0m\u001b[0;34m(\u001b[0m\u001b[0maxis\u001b[0m\u001b[0;34m=\u001b[0m\u001b[0;36m1\u001b[0m\u001b[0;34m)\u001b[0m\u001b[0;34m)\u001b[0m\u001b[0;34m:\u001b[0m\u001b[0;34m\u001b[0m\u001b[0;34m\u001b[0m\u001b[0m\n\u001b[0m\u001b[1;32m    632\u001b[0m         raise ValueError(\n\u001b[1;32m    633\u001b[0m             \u001b[0;34m\"Target scores need to be probabilities for multiclass \"\u001b[0m\u001b[0;34m\u001b[0m\u001b[0;34m\u001b[0m\u001b[0m\n",
      "\u001b[0;32m~/miniconda3/lib/python3.8/site-packages/numpy/core/_methods.py\u001b[0m in \u001b[0;36m_sum\u001b[0;34m(a, axis, dtype, out, keepdims, initial, where)\u001b[0m\n\u001b[1;32m     46\u001b[0m def _sum(a, axis=None, dtype=None, out=None, keepdims=False,\n\u001b[1;32m     47\u001b[0m          initial=_NoValue, where=True):\n\u001b[0;32m---> 48\u001b[0;31m     \u001b[0;32mreturn\u001b[0m \u001b[0mumr_sum\u001b[0m\u001b[0;34m(\u001b[0m\u001b[0ma\u001b[0m\u001b[0;34m,\u001b[0m \u001b[0maxis\u001b[0m\u001b[0;34m,\u001b[0m \u001b[0mdtype\u001b[0m\u001b[0;34m,\u001b[0m \u001b[0mout\u001b[0m\u001b[0;34m,\u001b[0m \u001b[0mkeepdims\u001b[0m\u001b[0;34m,\u001b[0m \u001b[0minitial\u001b[0m\u001b[0;34m,\u001b[0m \u001b[0mwhere\u001b[0m\u001b[0;34m)\u001b[0m\u001b[0;34m\u001b[0m\u001b[0;34m\u001b[0m\u001b[0m\n\u001b[0m\u001b[1;32m     49\u001b[0m \u001b[0;34m\u001b[0m\u001b[0m\n\u001b[1;32m     50\u001b[0m def _prod(a, axis=None, dtype=None, out=None, keepdims=False,\n",
      "\u001b[0;31mAxisError\u001b[0m: axis 1 is out of bounds for array of dimension 1"
     ]
    }
   ],
   "source": [
    "from sklearn.metrics import  precision_score, recall_score, accuracy_score,classification_report ,confusion_matrix\n",
    "from sklearn.metrics import roc_curve, auc\n",
    "from sklearn.metrics import roc_auc_score\n",
    "y_true = y_label\n",
    "y_pred = y_predict\n",
    "print(\"Precision: \"+ str(precision_score(y_true, y_pred, average='weighted')))\n",
    "print(\"Recall: \"+ str(recall_score(y_true, y_pred, average='weighted')))\n",
    "print(\"Accuracy: \" + str(accuracy_score(y_true, y_pred)))\n",
    "print(\"weighted Roc score: \" + str(roc_auc_score(y_true,y_pred,multi_class='ovr',average='weighted')))"
   ]
  },
  {
   "cell_type": "code",
   "execution_count": 96,
   "metadata": {},
   "outputs": [],
   "source": [
    "torch.save(model.state_dict(), './experiment/base/convbase.pt')\n"
   ]
  },
  {
   "cell_type": "code",
   "execution_count": 59,
   "metadata": {},
   "outputs": [
    {
     "data": {
      "text/plain": [
       "'./experiment/casa/fine/convcasa_fine.pt'"
      ]
     },
     "execution_count": 59,
     "metadata": {},
     "output_type": "execute_result"
    }
   ],
   "source": [
    "# shutil.copy(\"./checkpoint.pt\",'./experiment/casa/fine/convcasa_fine.pt')"
   ]
  },
  {
   "cell_type": "code",
   "execution_count": 90,
   "metadata": {},
   "outputs": [
    {
     "name": "stdout",
     "output_type": "stream",
     "text": [
      "====> based on Channel Attention and Spatial Attention!\n"
     ]
    }
   ],
   "source": [
    "#From check point\n",
    "device = torch.device('cuda' if torch.cuda.is_available() else 'cpu')\n",
    "modeloa = convnextaa_base(num_classes=7, pretrained=True, aa=\"casa\")\n",
    "# modeloa.head = nn.Linear(modeloa.head.in_features, 7) ## changing it output layer to skin classes\n",
    "modeloa = modeloa.to(device)"
   ]
  },
  {
   "cell_type": "markdown",
   "metadata": {},
   "source": [
    "**Function to display the loss curve for training and validation sets.**"
   ]
  },
  {
   "cell_type": "code",
   "execution_count": 91,
   "metadata": {},
   "outputs": [
    {
     "name": "stdout",
     "output_type": "stream",
     "text": [
      "<built-in method size of Tensor object at 0x7fe120b205c0>\n",
      "<built-in method size of Tensor object at 0x7fe0338b02c0>\n",
      "<built-in method size of Tensor object at 0x7fe12073ec00>\n",
      "<built-in method size of Tensor object at 0x7fe0338b0500>\n",
      "<built-in method size of Tensor object at 0x7fe0338b01c0>\n",
      "<built-in method size of Tensor object at 0x7fe0338b0780>\n",
      "<built-in method size of Tensor object at 0x7fe12073a640>\n",
      "<built-in method size of Tensor object at 0x7fe1205b2780>\n",
      "<built-in method size of Tensor object at 0x7fe0338b0580>\n",
      "<built-in method size of Tensor object at 0x7fe1205b2780>\n",
      "<built-in method size of Tensor object at 0x7fe12072bac0>\n",
      "<built-in method size of Tensor object at 0x7fe0338b0840>\n",
      "<built-in method size of Tensor object at 0x7fe12072bac0>\n",
      "<built-in method size of Tensor object at 0x7fe033806880>\n",
      "<built-in method size of Tensor object at 0x7fe120723380>\n",
      "<built-in method size of Tensor object at 0x7fe0338b0580>\n",
      "<built-in method size of Tensor object at 0x7fe120723380>\n",
      "<built-in method size of Tensor object at 0x7fe0338b0c40>\n",
      "<built-in method size of Tensor object at 0x7fe033806880>\n",
      "<built-in method size of Tensor object at 0x7fe0338b01c0>\n",
      "<built-in method size of Tensor object at 0x7fe120b205c0>\n",
      "<built-in method size of Tensor object at 0x7fe1205b2780>\n",
      "<built-in method size of Tensor object at 0x7fe0338b0d00>\n",
      "<built-in method size of Tensor object at 0x7fe0337f5fc0>\n",
      "<built-in method size of Tensor object at 0x7fe0338b0d00>\n",
      "<built-in method size of Tensor object at 0x7fe0337f50c0>\n",
      "<built-in method size of Tensor object at 0x7fe0338069c0>\n",
      "<built-in method size of Tensor object at 0x7fe0337f5fc0>\n",
      "<built-in method size of Tensor object at 0x7fe0338069c0>\n",
      "<built-in method size of Tensor object at 0x7fe0337f0a40>\n",
      "<built-in method size of Tensor object at 0x7fe0338b0200>\n",
      "<built-in method size of Tensor object at 0x7fe120b205c0>\n",
      "<built-in method size of Tensor object at 0x7fe12072bac0>\n",
      "<built-in method size of Tensor object at 0x7fe120b205c0>\n",
      "<built-in method size of Tensor object at 0x7fe0338b01c0>\n",
      "<built-in method size of Tensor object at 0x7fe0337f0900>\n",
      "<built-in method size of Tensor object at 0x7fe12072bac0>\n",
      "<built-in method size of Tensor object at 0x7fe12073ee80>\n",
      "<built-in method size of Tensor object at 0x7fe12073a640>\n",
      "<built-in method size of Tensor object at 0x7fe0338b08c0>\n",
      "<built-in method size of Tensor object at 0x7fe0337f0900>\n",
      "<built-in method size of Tensor object at 0x7fe0338b08c0>\n",
      "<built-in method size of Tensor object at 0x7fe120b205c0>\n",
      "<built-in method size of Tensor object at 0x7fe12073ee80>\n",
      "<built-in method size of Tensor object at 0x7fe120740a40>\n",
      "<built-in method size of Tensor object at 0x7fe12072bac0>\n",
      "<built-in method size of Tensor object at 0x7fe0337ed340>\n",
      "<built-in method size of Tensor object at 0x7fe033806540>\n",
      "<built-in method size of Tensor object at 0x7fe0338b0200>\n",
      "<built-in method size of Tensor object at 0x7fe120740b80>\n",
      "<built-in method size of Tensor object at 0x7fe0337f0a40>\n",
      "<built-in method size of Tensor object at 0x7fe12073ee80>\n",
      "<built-in method size of Tensor object at 0x7fe0337ed8c0>\n",
      "<built-in method size of Tensor object at 0x7fe0338b0740>\n",
      "<built-in method size of Tensor object at 0x7fe0337f0a40>\n",
      "<built-in method size of Tensor object at 0x7fe0337f0500>\n",
      "<built-in method size of Tensor object at 0x7fe0337ed7c0>\n",
      "<built-in method size of Tensor object at 0x7fe120723380>\n",
      "<built-in method size of Tensor object at 0x7fe1207400c0>\n",
      "<built-in method size of Tensor object at 0x7fe0337f0900>\n",
      "<built-in method size of Tensor object at 0x7fe12073ee80>\n",
      "<built-in method size of Tensor object at 0x7fe12072bac0>\n",
      "<built-in method size of Tensor object at 0x7fe0337eda00>\n",
      "<built-in method size of Tensor object at 0x7fe120740ac0>\n",
      "<built-in method size of Tensor object at 0x7fe0338b0200>\n",
      "<built-in method size of Tensor object at 0x7fe0337ed340>\n",
      "<built-in method size of Tensor object at 0x7fe0338b01c0>\n",
      "<built-in method size of Tensor object at 0x7fe0337f5980>\n",
      "<built-in method size of Tensor object at 0x7fe120723380>\n",
      "<built-in method size of Tensor object at 0x7fe0337f5980>\n",
      "<built-in method size of Tensor object at 0x7fe0337eda00>\n",
      "<built-in method size of Tensor object at 0x7fe0337f07c0>\n",
      "<built-in method size of Tensor object at 0x7fe033806880>\n",
      "<built-in method size of Tensor object at 0x7fe0337ed2c0>\n",
      "<built-in method size of Tensor object at 0x7fe0338069c0>\n",
      "<built-in method size of Tensor object at 0x7fe0337f5d00>\n",
      "<built-in method size of Tensor object at 0x7fe0337ed5c0>\n",
      "<built-in method size of Tensor object at 0x7fe0337ede00>\n",
      "<built-in method size of Tensor object at 0x7fe033806880>\n",
      "<built-in method size of Tensor object at 0x7fe0337f5fc0>\n",
      "<built-in method size of Tensor object at 0x7fe0338b0740>\n",
      "<built-in method size of Tensor object at 0x7fe0337f0900>\n",
      "<built-in method size of Tensor object at 0x7fe0337ed480>\n"
     ]
    }
   ],
   "source": [
    "modeloa.eval()\n",
    "y_label = []\n",
    "y_predict = []\n",
    "\n",
    "with torch.no_grad():\n",
    "    for i,(images,labels) in enumerate(validation_data_loader):\n",
    "        print(images.size)\n",
    "        n = images.size(0)\n",
    "        images = images.to(device)\n",
    "        output = modeloa(images)\n",
    "        pred = torch.argmax(output, dim=1)\n",
    "        y_label.extend(labels.cpu().numpy())\n",
    "        y_predict.extend(pred.cpu().numpy())\n",
    "plot_labels = ['akiec', 'bcc', 'bkl', 'df', 'nv', 'vasc','mel']"
   ]
  },
  {
   "cell_type": "code",
   "execution_count": 92,
   "metadata": {},
   "outputs": [
    {
     "name": "stdout",
     "output_type": "stream",
     "text": [
      "              precision    recall  f1-score   support\n",
      "\n",
      "       akiec       0.00      0.00      0.00        23\n",
      "         bcc       0.00      0.00      0.00        26\n",
      "         bkl       0.00      0.00      0.00        66\n",
      "          df       0.01      1.00      0.01         6\n",
      "          nv       0.00      0.00      0.00        34\n",
      "        vasc       0.00      0.00      0.00       663\n",
      "         mel       0.00      0.00      0.00        10\n",
      "\n",
      "    accuracy                           0.01       828\n",
      "   macro avg       0.00      0.14      0.00       828\n",
      "weighted avg       0.00      0.01      0.00       828\n",
      "\n"
     ]
    },
    {
     "name": "stderr",
     "output_type": "stream",
     "text": [
      "/root/miniconda3/lib/python3.8/site-packages/sklearn/metrics/_classification.py:1334: UndefinedMetricWarning: Precision and F-score are ill-defined and being set to 0.0 in labels with no predicted samples. Use `zero_division` parameter to control this behavior.\n",
      "  _warn_prf(average, modifier, msg_start, len(result))\n",
      "/root/miniconda3/lib/python3.8/site-packages/sklearn/metrics/_classification.py:1334: UndefinedMetricWarning: Precision and F-score are ill-defined and being set to 0.0 in labels with no predicted samples. Use `zero_division` parameter to control this behavior.\n",
      "  _warn_prf(average, modifier, msg_start, len(result))\n",
      "/root/miniconda3/lib/python3.8/site-packages/sklearn/metrics/_classification.py:1334: UndefinedMetricWarning: Precision and F-score are ill-defined and being set to 0.0 in labels with no predicted samples. Use `zero_division` parameter to control this behavior.\n",
      "  _warn_prf(average, modifier, msg_start, len(result))\n"
     ]
    }
   ],
   "source": [
    "#half focal\n",
    "from sklearn.metrics import classification_report\n",
    "\n",
    "#Classification report\n",
    "report = classification_report(y_label, y_predict, target_names=plot_labels)\n",
    "print(report)"
   ]
  },
  {
   "cell_type": "code",
   "execution_count": 124,
   "metadata": {},
   "outputs": [],
   "source": [
    "from sklearn.metrics import  precision_score, recall_score, accuracy_score,classification_report ,confusion_matrix\n",
    "from sklearn.metrics import roc_curve, auc\n",
    "from sklearn.metrics import roc_auc_score\n"
   ]
  },
  {
   "cell_type": "code",
   "execution_count": 202,
   "metadata": {},
   "outputs": [
    {
     "name": "stdout",
     "output_type": "stream",
     "text": [
      "Precision: 0.9341816498907799\n",
      "Recall: 0.9359903381642513\n",
      "Accuracy: 0.9359903381642513\n"
     ]
    },
    {
     "ename": "AxisError",
     "evalue": "axis 1 is out of bounds for array of dimension 1",
     "output_type": "error",
     "traceback": [
      "\u001b[0;31m---------------------------------------------------------------------------\u001b[0m",
      "\u001b[0;31mAxisError\u001b[0m                                 Traceback (most recent call last)",
      "\u001b[0;32m/tmp/ipykernel_3154/2914100312.py\u001b[0m in \u001b[0;36m<module>\u001b[0;34m\u001b[0m\n\u001b[1;32m      4\u001b[0m \u001b[0mprint\u001b[0m\u001b[0;34m(\u001b[0m\u001b[0;34m\"Recall: \"\u001b[0m\u001b[0;34m+\u001b[0m \u001b[0mstr\u001b[0m\u001b[0;34m(\u001b[0m\u001b[0mrecall_score\u001b[0m\u001b[0;34m(\u001b[0m\u001b[0my_true\u001b[0m\u001b[0;34m,\u001b[0m \u001b[0my_pred\u001b[0m\u001b[0;34m,\u001b[0m \u001b[0maverage\u001b[0m\u001b[0;34m=\u001b[0m\u001b[0;34m'weighted'\u001b[0m\u001b[0;34m)\u001b[0m\u001b[0;34m)\u001b[0m\u001b[0;34m)\u001b[0m\u001b[0;34m\u001b[0m\u001b[0;34m\u001b[0m\u001b[0m\n\u001b[1;32m      5\u001b[0m \u001b[0mprint\u001b[0m\u001b[0;34m(\u001b[0m\u001b[0;34m\"Accuracy: \"\u001b[0m \u001b[0;34m+\u001b[0m \u001b[0mstr\u001b[0m\u001b[0;34m(\u001b[0m\u001b[0maccuracy_score\u001b[0m\u001b[0;34m(\u001b[0m\u001b[0my_true\u001b[0m\u001b[0;34m,\u001b[0m \u001b[0my_pred\u001b[0m\u001b[0;34m)\u001b[0m\u001b[0;34m)\u001b[0m\u001b[0;34m)\u001b[0m\u001b[0;34m\u001b[0m\u001b[0;34m\u001b[0m\u001b[0m\n\u001b[0;32m----> 6\u001b[0;31m \u001b[0mprint\u001b[0m\u001b[0;34m(\u001b[0m\u001b[0;34m\"weighted Roc score: \"\u001b[0m \u001b[0;34m+\u001b[0m \u001b[0mstr\u001b[0m\u001b[0;34m(\u001b[0m\u001b[0mroc_auc_score\u001b[0m\u001b[0;34m(\u001b[0m\u001b[0my_true\u001b[0m\u001b[0;34m,\u001b[0m\u001b[0my_pred\u001b[0m\u001b[0;34m,\u001b[0m\u001b[0mmulti_class\u001b[0m\u001b[0;34m=\u001b[0m\u001b[0;34m'ovr'\u001b[0m\u001b[0;34m,\u001b[0m\u001b[0maverage\u001b[0m\u001b[0;34m=\u001b[0m\u001b[0;34m'weighted'\u001b[0m\u001b[0;34m)\u001b[0m\u001b[0;34m)\u001b[0m\u001b[0;34m)\u001b[0m\u001b[0;34m\u001b[0m\u001b[0;34m\u001b[0m\u001b[0m\n\u001b[0m",
      "\u001b[0;32m~/miniconda3/lib/python3.8/site-packages/sklearn/metrics/_ranking.py\u001b[0m in \u001b[0;36mroc_auc_score\u001b[0;34m(y_true, y_score, average, sample_weight, max_fpr, multi_class, labels)\u001b[0m\n\u001b[1;32m    563\u001b[0m         \u001b[0;32mif\u001b[0m \u001b[0mmulti_class\u001b[0m \u001b[0;34m==\u001b[0m \u001b[0;34m\"raise\"\u001b[0m\u001b[0;34m:\u001b[0m\u001b[0;34m\u001b[0m\u001b[0;34m\u001b[0m\u001b[0m\n\u001b[1;32m    564\u001b[0m             \u001b[0;32mraise\u001b[0m \u001b[0mValueError\u001b[0m\u001b[0;34m(\u001b[0m\u001b[0;34m\"multi_class must be in ('ovo', 'ovr')\"\u001b[0m\u001b[0;34m)\u001b[0m\u001b[0;34m\u001b[0m\u001b[0;34m\u001b[0m\u001b[0m\n\u001b[0;32m--> 565\u001b[0;31m         return _multiclass_roc_auc_score(\n\u001b[0m\u001b[1;32m    566\u001b[0m             \u001b[0my_true\u001b[0m\u001b[0;34m,\u001b[0m \u001b[0my_score\u001b[0m\u001b[0;34m,\u001b[0m \u001b[0mlabels\u001b[0m\u001b[0;34m,\u001b[0m \u001b[0mmulti_class\u001b[0m\u001b[0;34m,\u001b[0m \u001b[0maverage\u001b[0m\u001b[0;34m,\u001b[0m \u001b[0msample_weight\u001b[0m\u001b[0;34m\u001b[0m\u001b[0;34m\u001b[0m\u001b[0m\n\u001b[1;32m    567\u001b[0m         )\n",
      "\u001b[0;32m~/miniconda3/lib/python3.8/site-packages/sklearn/metrics/_ranking.py\u001b[0m in \u001b[0;36m_multiclass_roc_auc_score\u001b[0;34m(y_true, y_score, labels, multi_class, average, sample_weight)\u001b[0m\n\u001b[1;32m    629\u001b[0m     \"\"\"\n\u001b[1;32m    630\u001b[0m     \u001b[0;31m# validation of the input y_score\u001b[0m\u001b[0;34m\u001b[0m\u001b[0;34m\u001b[0m\u001b[0;34m\u001b[0m\u001b[0m\n\u001b[0;32m--> 631\u001b[0;31m     \u001b[0;32mif\u001b[0m \u001b[0;32mnot\u001b[0m \u001b[0mnp\u001b[0m\u001b[0;34m.\u001b[0m\u001b[0mallclose\u001b[0m\u001b[0;34m(\u001b[0m\u001b[0;36m1\u001b[0m\u001b[0;34m,\u001b[0m \u001b[0my_score\u001b[0m\u001b[0;34m.\u001b[0m\u001b[0msum\u001b[0m\u001b[0;34m(\u001b[0m\u001b[0maxis\u001b[0m\u001b[0;34m=\u001b[0m\u001b[0;36m1\u001b[0m\u001b[0;34m)\u001b[0m\u001b[0;34m)\u001b[0m\u001b[0;34m:\u001b[0m\u001b[0;34m\u001b[0m\u001b[0;34m\u001b[0m\u001b[0m\n\u001b[0m\u001b[1;32m    632\u001b[0m         raise ValueError(\n\u001b[1;32m    633\u001b[0m             \u001b[0;34m\"Target scores need to be probabilities for multiclass \"\u001b[0m\u001b[0;34m\u001b[0m\u001b[0;34m\u001b[0m\u001b[0m\n",
      "\u001b[0;32m~/miniconda3/lib/python3.8/site-packages/numpy/core/_methods.py\u001b[0m in \u001b[0;36m_sum\u001b[0;34m(a, axis, dtype, out, keepdims, initial, where)\u001b[0m\n\u001b[1;32m     46\u001b[0m def _sum(a, axis=None, dtype=None, out=None, keepdims=False,\n\u001b[1;32m     47\u001b[0m          initial=_NoValue, where=True):\n\u001b[0;32m---> 48\u001b[0;31m     \u001b[0;32mreturn\u001b[0m \u001b[0mumr_sum\u001b[0m\u001b[0;34m(\u001b[0m\u001b[0ma\u001b[0m\u001b[0;34m,\u001b[0m \u001b[0maxis\u001b[0m\u001b[0;34m,\u001b[0m \u001b[0mdtype\u001b[0m\u001b[0;34m,\u001b[0m \u001b[0mout\u001b[0m\u001b[0;34m,\u001b[0m \u001b[0mkeepdims\u001b[0m\u001b[0;34m,\u001b[0m \u001b[0minitial\u001b[0m\u001b[0;34m,\u001b[0m \u001b[0mwhere\u001b[0m\u001b[0;34m)\u001b[0m\u001b[0;34m\u001b[0m\u001b[0;34m\u001b[0m\u001b[0m\n\u001b[0m\u001b[1;32m     49\u001b[0m \u001b[0;34m\u001b[0m\u001b[0m\n\u001b[1;32m     50\u001b[0m def _prod(a, axis=None, dtype=None, out=None, keepdims=False,\n",
      "\u001b[0;31mAxisError\u001b[0m: axis 1 is out of bounds for array of dimension 1"
     ]
    }
   ],
   "source": [
    "from sklearn.metrics import  precision_score, recall_score, accuracy_score,classification_report ,confusion_matrix\n",
    "from sklearn.metrics import roc_curve, auc\n",
    "from sklearn.metrics import roc_auc_score\n",
    "y_true = y_label\n",
    "y_pred = y_predict\n",
    "print(\"Precision: \"+ str(precision_score(y_true, y_pred, average='weighted')))\n",
    "print(\"Recall: \"+ str(recall_score(y_true, y_pred, average='weighted')))\n",
    "print(\"Accuracy: \" + str(accuracy_score(y_true, y_pred)))\n",
    "print(\"weighted Roc score: \" + str(roc_auc_score(y_true,y_pred,multi_class='ovr',average='weighted')))"
   ]
  }
 ],
 "metadata": {
  "colab": {
   "name": "cifar10_tutorial.ipynb",
   "provenance": [],
   "version": "0.3.2"
  },
  "kernelspec": {
   "display_name": "Python 3 (ipykernel)",
   "language": "python",
   "name": "python3"
  },
  "language_info": {
   "codemirror_mode": {
    "name": "ipython",
    "version": 3
   },
   "file_extension": ".py",
   "mimetype": "text/x-python",
   "name": "python",
   "nbconvert_exporter": "python",
   "pygments_lexer": "ipython3",
   "version": "3.8.10"
  },
  "vscode": {
   "interpreter": {
    "hash": "3fe2170470c6d620c9f820921f589f49c412bc4a92f0287830e7b98500a27431"
   }
  }
 },
 "nbformat": 4,
 "nbformat_minor": 4
}
